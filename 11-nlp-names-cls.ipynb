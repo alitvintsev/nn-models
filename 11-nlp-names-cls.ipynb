{
 "cells": [
  {
   "cell_type": "markdown",
   "id": "ef84b820-007a-4649-bf92-28f893608e8d",
   "metadata": {},
   "source": [
    "# Names Classification with PyTorch"
   ]
  },
  {
   "cell_type": "markdown",
   "id": "364ba8c6-e07c-4d49-8171-41239bca36c9",
   "metadata": {},
   "source": [
    "### Import Libs"
   ]
  },
  {
   "cell_type": "code",
   "execution_count": 66,
   "id": "864729a1-77f4-4da2-ad4e-179a18ce553d",
   "metadata": {},
   "outputs": [],
   "source": [
    "from __future__ import unicode_literals, print_function, division\n",
    "from io import open\n",
    "import glob\n",
    "import os\n",
    "import random\n",
    "import time\n",
    "import math\n",
    "\n",
    "import matplotlib.pyplot as plt\n",
    "import matplotlib.ticker as ticker\n",
    "\n",
    "import unicodedata\n",
    "import string\n",
    "\n",
    "import torch\n",
    "import torch.nn as nn"
   ]
  },
  {
   "cell_type": "markdown",
   "id": "458744cf-f1c1-4521-bb2c-20c6f884cb93",
   "metadata": {},
   "source": [
    "### Options"
   ]
  },
  {
   "cell_type": "code",
   "execution_count": 67,
   "id": "6f838edc-72d5-43a6-ac76-b19bc34bcc94",
   "metadata": {},
   "outputs": [
    {
     "name": "stdout",
     "output_type": "stream",
     "text": [
      "Reading package lists... Done\n",
      "Building dependency tree       \n",
      "Reading state information... Done\n",
      "unzip is already the newest version (6.0-21ubuntu1.2).\n",
      "0 upgraded, 0 newly installed, 0 to remove and 48 not upgraded.\n"
     ]
    }
   ],
   "source": [
    "! sudo apt install unzip"
   ]
  },
  {
   "cell_type": "code",
   "execution_count": 68,
   "id": "039ea8c2-8ccc-4d3b-8f8f-31fb9df8c51c",
   "metadata": {},
   "outputs": [],
   "source": [
    "# ! unzip data/pytorch-names.zip"
   ]
  },
  {
   "cell_type": "markdown",
   "id": "75eeb7a7-71b9-4251-ac63-e84d6b077cef",
   "metadata": {},
   "source": [
    "### Data"
   ]
  },
  {
   "cell_type": "code",
   "execution_count": 69,
   "id": "4f728579-b8a1-4e30-8e01-5f52b939ed38",
   "metadata": {},
   "outputs": [],
   "source": [
    "def findFiles(path): \n",
    "    return glob.glob(path)"
   ]
  },
  {
   "cell_type": "code",
   "execution_count": 70,
   "id": "056225e4-96e1-46a7-965d-454e61627f93",
   "metadata": {},
   "outputs": [
    {
     "name": "stdout",
     "output_type": "stream",
     "text": [
      "['data/names/Arabic.txt', 'data/names/Portuguese.txt', 'data/names/Spanish.txt', 'data/names/Irish.txt', 'data/names/Scottish.txt', 'data/names/German.txt', 'data/names/Chinese.txt', 'data/names/English.txt', 'data/names/Korean.txt', 'data/names/Czech.txt', 'data/names/Russian.txt', 'data/names/Italian.txt', 'data/names/Dutch.txt', 'data/names/French.txt', 'data/names/Japanese.txt', 'data/names/Greek.txt', 'data/names/Polish.txt', 'data/names/Vietnamese.txt']\n"
     ]
    }
   ],
   "source": [
    "print(findFiles('data/names/*.txt'))"
   ]
  },
  {
   "cell_type": "code",
   "execution_count": 71,
   "id": "3b7ecdd2-8a63-4848-8cb6-b1b3538dc057",
   "metadata": {},
   "outputs": [],
   "source": [
    "all_letters = string.ascii_letters + \" .,;'\"\n",
    "n_letters = len(all_letters)"
   ]
  },
  {
   "cell_type": "code",
   "execution_count": 72,
   "id": "d16aff03-4023-4461-b324-5425e839132a",
   "metadata": {},
   "outputs": [
    {
     "data": {
      "text/plain": [
       "\"abcdefghijklmnopqrstuvwxyzABCDEFGHIJKLMNOPQRSTUVWXYZ .,;'\""
      ]
     },
     "execution_count": 72,
     "metadata": {},
     "output_type": "execute_result"
    }
   ],
   "source": [
    "all_letters"
   ]
  },
  {
   "cell_type": "code",
   "execution_count": 73,
   "id": "6acb492b-4073-4aa9-9264-7dc3987f16e2",
   "metadata": {},
   "outputs": [],
   "source": [
    "# Turn a Unicode string to plain ASCII, thanks to https://stackoverflow.com/a/518232/2809427\n",
    "def unicodeToAscii(s):\n",
    "    return ''.join(\n",
    "        c for c in unicodedata.normalize('NFD', s)\n",
    "        if unicodedata.category(c) != 'Mn'\n",
    "        and c in all_letters\n",
    "    )"
   ]
  },
  {
   "cell_type": "code",
   "execution_count": 74,
   "id": "a643fc66-d97d-4fed-899c-584fea625d3f",
   "metadata": {},
   "outputs": [
    {
     "name": "stdout",
     "output_type": "stream",
     "text": [
      "Slusarski\n"
     ]
    }
   ],
   "source": [
    "print(unicodeToAscii('Ślusàrski'))"
   ]
  },
  {
   "cell_type": "code",
   "execution_count": 75,
   "id": "86a0e486-e9f6-4eca-8ac0-fb5138188183",
   "metadata": {},
   "outputs": [],
   "source": [
    "# Build the category_lines dictionary, a list of names per language\n",
    "category_lines = {}\n",
    "all_categories = []\n",
    "\n",
    "# Read a file and split into lines\n",
    "def readLines(filename):\n",
    "    lines = open(filename, encoding='utf-8').read().strip().split('\\n')\n",
    "    return [unicodeToAscii(line) for line in lines]\n",
    "\n",
    "for filename in findFiles('data/names/*.txt'):\n",
    "    category = os.path.splitext(os.path.basename(filename))[0]\n",
    "    all_categories.append(category)\n",
    "    lines = readLines(filename)\n",
    "    category_lines[category] = lines\n",
    "\n",
    "n_categories = len(all_categories)"
   ]
  },
  {
   "cell_type": "code",
   "execution_count": 76,
   "id": "855c7c85-fe90-4d40-aef7-b147583e44c3",
   "metadata": {},
   "outputs": [
    {
     "data": {
      "text/plain": [
       "['Arabic',\n",
       " 'Portuguese',\n",
       " 'Spanish',\n",
       " 'Irish',\n",
       " 'Scottish',\n",
       " 'German',\n",
       " 'Chinese',\n",
       " 'English',\n",
       " 'Korean',\n",
       " 'Czech',\n",
       " 'Russian',\n",
       " 'Italian',\n",
       " 'Dutch',\n",
       " 'French',\n",
       " 'Japanese',\n",
       " 'Greek',\n",
       " 'Polish',\n",
       " 'Vietnamese']"
      ]
     },
     "execution_count": 76,
     "metadata": {},
     "output_type": "execute_result"
    }
   ],
   "source": [
    "all_categories"
   ]
  },
  {
   "cell_type": "code",
   "execution_count": 77,
   "id": "dda8e811-9258-4407-a01e-142ae9051dce",
   "metadata": {},
   "outputs": [
    {
     "name": "stdout",
     "output_type": "stream",
     "text": [
      "['Abandonato', 'Abatangelo', 'Abatantuono', 'Abate', 'Abategiovanni']\n"
     ]
    }
   ],
   "source": [
    "print(category_lines['Italian'][:5])"
   ]
  },
  {
   "cell_type": "code",
   "execution_count": 78,
   "id": "7e45d867-9c49-4d46-9249-21ff49844bac",
   "metadata": {},
   "outputs": [],
   "source": [
    "# Find letter index from all_letters, e.g. \"a\" = 0\n",
    "def letterToIndex(letter):\n",
    "    return all_letters.find(letter)\n",
    "\n",
    "# Just for demonstration, turn a letter into a <1 x n_letters> Tensor\n",
    "def letterToTensor(letter):\n",
    "    tensor = torch.zeros(1, n_letters)\n",
    "    tensor[0][letterToIndex(letter)] = 1\n",
    "    return tensor\n",
    "\n",
    "# Turn a line into a <line_length x 1 x n_letters>,\n",
    "# or an array of one-hot letter vectors\n",
    "def lineToTensor(line):\n",
    "    tensor = torch.zeros(len(line), 1, n_letters)\n",
    "    for li, letter in enumerate(line):\n",
    "        tensor[li][0][letterToIndex(letter)] = 1\n",
    "    return tensor"
   ]
  },
  {
   "cell_type": "code",
   "execution_count": 79,
   "id": "52363d71-b05b-4874-aaad-ac249f2b7fe7",
   "metadata": {},
   "outputs": [
    {
     "data": {
      "text/plain": [
       "12"
      ]
     },
     "execution_count": 79,
     "metadata": {},
     "output_type": "execute_result"
    }
   ],
   "source": [
    "letterToIndex('m')"
   ]
  },
  {
   "cell_type": "code",
   "execution_count": 80,
   "id": "37d85aa2-2358-4ece-baea-802741ce7e07",
   "metadata": {},
   "outputs": [
    {
     "data": {
      "text/plain": [
       "tensor([[0., 0., 0., 0., 0., 0., 0., 0., 0., 0., 0., 0., 1., 0., 0., 0., 0., 0.,\n",
       "         0., 0., 0., 0., 0., 0., 0., 0., 0., 0., 0., 0., 0., 0., 0., 0., 0., 0.,\n",
       "         0., 0., 0., 0., 0., 0., 0., 0., 0., 0., 0., 0., 0., 0., 0., 0., 0., 0.,\n",
       "         0., 0., 0.]])"
      ]
     },
     "execution_count": 80,
     "metadata": {},
     "output_type": "execute_result"
    }
   ],
   "source": [
    "letterToTensor('m')"
   ]
  },
  {
   "cell_type": "code",
   "execution_count": 81,
   "id": "5fccdf9f-78f4-4174-8544-8813dc890da4",
   "metadata": {},
   "outputs": [
    {
     "data": {
      "text/plain": [
       "tensor([[[0., 0., 0., 0., 0., 0., 0., 0., 0., 0., 0., 0., 0., 0., 0., 0., 0.,\n",
       "          0., 0., 0., 0., 0., 0., 0., 0., 0., 0., 0., 0., 0., 0., 0., 0., 0.,\n",
       "          0., 1., 0., 0., 0., 0., 0., 0., 0., 0., 0., 0., 0., 0., 0., 0., 0.,\n",
       "          0., 0., 0., 0., 0., 0.]],\n",
       "\n",
       "        [[0., 0., 0., 0., 0., 0., 0., 0., 0., 0., 0., 0., 0., 0., 1., 0., 0.,\n",
       "          0., 0., 0., 0., 0., 0., 0., 0., 0., 0., 0., 0., 0., 0., 0., 0., 0.,\n",
       "          0., 0., 0., 0., 0., 0., 0., 0., 0., 0., 0., 0., 0., 0., 0., 0., 0.,\n",
       "          0., 0., 0., 0., 0., 0.]],\n",
       "\n",
       "        [[0., 0., 0., 0., 0., 0., 0., 0., 0., 0., 0., 0., 0., 1., 0., 0., 0.,\n",
       "          0., 0., 0., 0., 0., 0., 0., 0., 0., 0., 0., 0., 0., 0., 0., 0., 0.,\n",
       "          0., 0., 0., 0., 0., 0., 0., 0., 0., 0., 0., 0., 0., 0., 0., 0., 0.,\n",
       "          0., 0., 0., 0., 0., 0.]],\n",
       "\n",
       "        [[0., 0., 0., 0., 1., 0., 0., 0., 0., 0., 0., 0., 0., 0., 0., 0., 0.,\n",
       "          0., 0., 0., 0., 0., 0., 0., 0., 0., 0., 0., 0., 0., 0., 0., 0., 0.,\n",
       "          0., 0., 0., 0., 0., 0., 0., 0., 0., 0., 0., 0., 0., 0., 0., 0., 0.,\n",
       "          0., 0., 0., 0., 0., 0.]],\n",
       "\n",
       "        [[0., 0., 0., 0., 0., 0., 0., 0., 0., 0., 0., 0., 0., 0., 0., 0., 0.,\n",
       "          0., 1., 0., 0., 0., 0., 0., 0., 0., 0., 0., 0., 0., 0., 0., 0., 0.,\n",
       "          0., 0., 0., 0., 0., 0., 0., 0., 0., 0., 0., 0., 0., 0., 0., 0., 0.,\n",
       "          0., 0., 0., 0., 0., 0.]]])"
      ]
     },
     "execution_count": 81,
     "metadata": {},
     "output_type": "execute_result"
    }
   ],
   "source": [
    "lineToTensor('Jones')"
   ]
  },
  {
   "cell_type": "markdown",
   "id": "9db2768f-dc53-4556-a3e2-877f6c2d9904",
   "metadata": {},
   "source": [
    "### Model"
   ]
  },
  {
   "cell_type": "code",
   "execution_count": 103,
   "id": "2efaa85d-1c5c-4557-a2ba-5d51a5f72d8f",
   "metadata": {},
   "outputs": [],
   "source": [
    "class RNNClassic(nn.Module):\n",
    "    def __init__(self, input_size, hidden_size, output_size):\n",
    "        super(RNNClassic, self).__init__()\n",
    "        \n",
    "        self.hidden_size = hidden_size\n",
    "        \n",
    "        self.i2h = nn.Linear(input_size+hidden_size, hidden_size)\n",
    "        self.i2o = nn.Linear(input_size+hidden_size, output_size)\n",
    "        \n",
    "        self.softmax = nn.LogSoftmax(dim=1)\n",
    "        \n",
    "    def forward(self, input, hidden):\n",
    "        combined = torch.cat((input, hidden), 1)\n",
    "        hidden = self.i2h(combined)\n",
    "        output = self.i2o(combined)\n",
    "        output = self.softmax(output)\n",
    "        return output, hidden\n",
    "        \n",
    "    def initHidden(self):\n",
    "        return torch.zeros(1, self.hidden_size)"
   ]
  },
  {
   "cell_type": "code",
   "execution_count": 96,
   "id": "dfba4380-aea8-41e0-8646-6e70b4b8f769",
   "metadata": {},
   "outputs": [],
   "source": [
    "class RNNTorch(nn.Module):\n",
    "    def __init__(self, input_size, hidden_size, output_size, n_layers):\n",
    "        super(RNNTorch, self).__init__()\n",
    "        \n",
    "        self.hidden_size = hidden_size\n",
    "        self.n_layers = n_layers\n",
    "        \n",
    "        self.rnn = nn.RNN(input_size, hidden_size, n_layers, batch_first=True)\n",
    "        self.fc = nn.Linear(hidden_size, output_size)\n",
    "        \n",
    "    def forward(self, x):\n",
    "        batch_size = x.size(0)\n",
    "        \n",
    "        hidden = self.init_hidden(batch_size)\n",
    "        \n",
    "        output, hidden = self.rnn(x, hidden)\n",
    "        \n",
    "        output = output.contiguous().view(-1, self.hidden_size)\n",
    "        output = self.fc(output)\n",
    "        \n",
    "        return output, hidden\n",
    "        \n",
    "    def init_hidden(self):\n",
    "        hidden = torch.zeros(self.n_layers, batch_size, self.hidden_size)\n",
    "        return hidden"
   ]
  },
  {
   "cell_type": "code",
   "execution_count": 97,
   "id": "9f27f991-9425-4635-930f-d10c6e2f2e99",
   "metadata": {},
   "outputs": [],
   "source": [
    "n_hidden = 128"
   ]
  },
  {
   "cell_type": "code",
   "execution_count": 98,
   "id": "a53e5c21-4224-4041-b5a5-ab56727c1e24",
   "metadata": {},
   "outputs": [
    {
     "name": "stdout",
     "output_type": "stream",
     "text": [
      "57 128 18\n"
     ]
    }
   ],
   "source": [
    "print(n_letters, n_hidden, n_categories)"
   ]
  },
  {
   "cell_type": "code",
   "execution_count": 104,
   "id": "ca68b34d-41ef-4972-8ecd-e6408849e080",
   "metadata": {},
   "outputs": [],
   "source": [
    "rnn = RNNClassic(n_letters, n_hidden, n_categories)"
   ]
  },
  {
   "cell_type": "code",
   "execution_count": 99,
   "id": "0506bd94-591b-4d51-ab77-61e525486e82",
   "metadata": {},
   "outputs": [],
   "source": [
    "# rnn = RNNTorch(n_letters, n_hidden, n_categories, n_layers=1)"
   ]
  },
  {
   "cell_type": "code",
   "execution_count": 100,
   "id": "4e016fbd-677a-48fc-85b8-613621ff454c",
   "metadata": {},
   "outputs": [
    {
     "name": "stdout",
     "output_type": "stream",
     "text": [
      "RNNTorch(\n",
      "  (rnn): RNN(57, 128, batch_first=True)\n",
      "  (fc): Linear(in_features=128, out_features=18, bias=True)\n",
      ")\n"
     ]
    }
   ],
   "source": [
    "print(rnn)"
   ]
  },
  {
   "cell_type": "markdown",
   "id": "00978751-1c80-4ada-8f7d-cf0393f93225",
   "metadata": {},
   "source": [
    "### Letter"
   ]
  },
  {
   "cell_type": "code",
   "execution_count": 46,
   "id": "639d3707-23fa-46e9-ae42-c8c71db4b69d",
   "metadata": {},
   "outputs": [],
   "source": [
    "input = letterToTensor('A')\n",
    "hidden = torch.zeros(1, n_hidden)\n",
    "\n",
    "output, next_hidden = rnn(input, hidden)"
   ]
  },
  {
   "cell_type": "code",
   "execution_count": 47,
   "id": "917b4522-dbec-4f6a-99f2-ca420345944d",
   "metadata": {},
   "outputs": [
    {
     "data": {
      "text/plain": [
       "(tensor([[-2.9266, -2.9272, -2.8324, -2.9632, -2.9167, -2.8060, -2.9261, -2.8726,\n",
       "          -2.8077, -2.9223, -2.9237, -2.8072, -2.9031, -2.8524, -2.8834, -2.8549,\n",
       "          -3.0109, -2.9176]], grad_fn=<LogSoftmaxBackward0>),\n",
       " tensor([[-0.0215,  0.0647,  0.0658, -0.0308,  0.0173, -0.0278,  0.0191, -0.0027,\n",
       "          -0.0090,  0.1397,  0.0748,  0.1061,  0.0973,  0.0663,  0.0507,  0.0243,\n",
       "           0.0255,  0.0911, -0.0579, -0.0548,  0.0182, -0.0932,  0.0006,  0.0178,\n",
       "          -0.0505,  0.0672, -0.0639,  0.0620,  0.0743,  0.0034,  0.0604, -0.1244,\n",
       "          -0.0236, -0.0337, -0.0981, -0.1068,  0.0420, -0.0139, -0.0757, -0.0157,\n",
       "           0.0116,  0.1010,  0.0421,  0.0751,  0.0472, -0.0273,  0.0326,  0.0348,\n",
       "           0.0826,  0.0063, -0.0219, -0.0434, -0.0002,  0.0595,  0.0896, -0.0598,\n",
       "          -0.0615, -0.0111,  0.0523,  0.0220,  0.0488, -0.0259, -0.0045, -0.0472,\n",
       "           0.0518,  0.0433, -0.0826,  0.0338, -0.0117, -0.0702, -0.0486, -0.0905,\n",
       "          -0.0342,  0.0599,  0.0908, -0.0307, -0.0168,  0.0006,  0.1040,  0.0322,\n",
       "           0.0105,  0.0199,  0.0818,  0.0350, -0.0083,  0.0099, -0.1111, -0.1222,\n",
       "           0.0502,  0.0406,  0.0781,  0.0432, -0.0334, -0.0411, -0.0618,  0.0319,\n",
       "           0.0169, -0.0025,  0.0267,  0.0413,  0.0571,  0.0724, -0.0764, -0.1414,\n",
       "           0.0257,  0.0392,  0.0991, -0.0697,  0.0659, -0.0944, -0.0974,  0.0642,\n",
       "          -0.0481,  0.0291, -0.0037,  0.0564,  0.0605, -0.0030,  0.0873, -0.0751,\n",
       "          -0.0094, -0.0066, -0.0842, -0.0039,  0.0763,  0.1016, -0.0117, -0.0160]],\n",
       "        grad_fn=<AddmmBackward0>))"
      ]
     },
     "execution_count": 47,
     "metadata": {},
     "output_type": "execute_result"
    }
   ],
   "source": [
    "output, next_hidden"
   ]
  },
  {
   "cell_type": "markdown",
   "id": "69f72f90-f99a-4041-b886-01af81e31d19",
   "metadata": {},
   "source": [
    "### Name"
   ]
  },
  {
   "cell_type": "code",
   "execution_count": 50,
   "id": "e9a2046b-a8c1-4b23-a7c2-857ec2307cdc",
   "metadata": {},
   "outputs": [
    {
     "name": "stdout",
     "output_type": "stream",
     "text": [
      "tensor([[-2.9266, -2.9272, -2.8324, -2.9632, -2.9167, -2.8060, -2.9261, -2.8726,\n",
      "         -2.8077, -2.9223, -2.9237, -2.8072, -2.9031, -2.8524, -2.8834, -2.8549,\n",
      "         -3.0109, -2.9176]], grad_fn=<LogSoftmaxBackward0>)\n"
     ]
    }
   ],
   "source": [
    "input = lineToTensor('Albert')\n",
    "hidden = torch.zeros(1, n_hidden)\n",
    "\n",
    "output, next_hidden = rnn(input[0], hidden)\n",
    "print(output)"
   ]
  },
  {
   "cell_type": "code",
   "execution_count": 51,
   "id": "12ca8f2d-cae5-4334-9af5-3b6018e1caae",
   "metadata": {},
   "outputs": [
    {
     "name": "stdout",
     "output_type": "stream",
     "text": [
      "('German', 5)\n"
     ]
    }
   ],
   "source": [
    "def categoryFromOutput(output):\n",
    "    top_n, top_i = output.topk(1)\n",
    "    category_i = top_i[0].item()\n",
    "    return all_categories[category_i], category_i\n",
    "\n",
    "print(categoryFromOutput(output))"
   ]
  },
  {
   "cell_type": "code",
   "execution_count": 53,
   "id": "404d8a58-4402-42d8-8476-99ccb8c468a8",
   "metadata": {},
   "outputs": [
    {
     "name": "stdout",
     "output_type": "stream",
     "text": [
      "category = Japanese / line = Yoshizawa\n",
      "category = German / line = Eberhardt\n",
      "category = Russian / line = Elehin\n",
      "category = Russian / line = Pridvorov\n",
      "category = English / line = Howes\n",
      "category = Vietnamese / line = Tieu\n",
      "category = Italian / line = Bove\n",
      "category = French / line = Faucher\n",
      "category = English / line = Templeman\n",
      "category = Chinese / line = Ming\n"
     ]
    }
   ],
   "source": [
    "def randomChoice(l):\n",
    "    return l[random.randint(0, len(l) - 1)]\n",
    "\n",
    "def randomTrainingExample():\n",
    "    category = randomChoice(all_categories)\n",
    "    line = randomChoice(category_lines[category])\n",
    "    category_tensor = torch.tensor([all_categories.index(category)], dtype=torch.long)\n",
    "    line_tensor = lineToTensor(line)\n",
    "    return category, line, category_tensor, line_tensor\n",
    "\n",
    "for i in range(10):\n",
    "    category, line, category_tensor, line_tensor = randomTrainingExample()\n",
    "    print('category =', category, '/ line =', line)"
   ]
  },
  {
   "cell_type": "markdown",
   "id": "e9f3e1ef-32f3-43a3-8c09-8ad72ef2854f",
   "metadata": {},
   "source": [
    "### Training"
   ]
  },
  {
   "cell_type": "code",
   "execution_count": 54,
   "id": "16280324-dec2-43b1-aa30-73755d863f00",
   "metadata": {},
   "outputs": [],
   "source": [
    "criterion = nn.NLLLoss()"
   ]
  },
  {
   "cell_type": "markdown",
   "id": "39c05be7-97e1-419d-9ad9-317659dc7a1b",
   "metadata": {},
   "source": [
    "Each loop of training will:\n",
    "\n",
    "- Create input and target tensors\n",
    "- Create a zeroed initial hidden state\n",
    "- Read each letter in and\n",
    "- Keep hidden state for next letter\n",
    "- Compare final output to target\n",
    "- Back-propagate\n",
    "- Return the output and loss"
   ]
  },
  {
   "cell_type": "code",
   "execution_count": 56,
   "id": "3366cd95-fd20-4226-a61f-dbb5a0d9c537",
   "metadata": {},
   "outputs": [],
   "source": [
    "learning_rate = 0.005 # If you set this too high, it might explode. If too low, it might not learn\n",
    "\n",
    "def train(category_tensor, line_tensor):\n",
    "    hidden = rnn.initHidden()\n",
    "\n",
    "    rnn.zero_grad()\n",
    "\n",
    "    for i in range(line_tensor.size()[0]):\n",
    "        output, hidden = rnn(line_tensor[i], hidden)\n",
    "\n",
    "    loss = criterion(output, category_tensor)\n",
    "    loss.backward()\n",
    "\n",
    "    # Add parameters' gradients to their values, multiplied by learning rate\n",
    "    for p in rnn.parameters():\n",
    "        p.data.add_(p.grad.data, alpha=-learning_rate)\n",
    "\n",
    "    return output, loss.item()"
   ]
  },
  {
   "cell_type": "code",
   "execution_count": 58,
   "id": "a67bec07-5e6c-45e2-98a3-a19c55b2e28f",
   "metadata": {},
   "outputs": [
    {
     "name": "stdout",
     "output_type": "stream",
     "text": [
      "5000 5% (0m 9s) 2.7259 Villa / Japanese ✗ (Italian)\n",
      "10000 10% (0m 17s) 2.4269 Vliert / French ✗ (Dutch)\n",
      "15000 15% (0m 26s) 2.6420 Sienkiewicz / Russian ✗ (Polish)\n",
      "20000 20% (0m 34s) 1.5985 Kraemer / German ✓\n",
      "25000 25% (0m 42s) 2.5446 Pelletier / German ✗ (French)\n",
      "30000 30% (0m 51s) 0.3091 Niijima / Japanese ✓\n",
      "35000 35% (0m 59s) 0.6751 Sowka / Polish ✓\n",
      "40000 40% (1m 8s) 0.6232 Roijakkers / Dutch ✓\n",
      "45000 45% (1m 16s) 2.0589 Kann / Irish ✗ (Dutch)\n",
      "50000 50% (1m 25s) 2.2857 Docherty / English ✗ (Scottish)\n",
      "55000 55% (1m 33s) 0.0110 Mcmillan / Scottish ✓\n",
      "60000 60% (1m 42s) 2.9467 Simoes / Arabic ✗ (Portuguese)\n",
      "65000 65% (1m 50s) 1.6769 Simoes / Dutch ✗ (Portuguese)\n",
      "70000 70% (1m 59s) 0.1926 Lyzlov / Russian ✓\n",
      "75000 75% (2m 8s) 0.8287 Gorecki / Polish ✓\n",
      "80000 80% (2m 17s) 2.6446 Buchholz / Irish ✗ (German)\n",
      "85000 85% (2m 25s) 3.4483 Jippensha / Czech ✗ (Japanese)\n",
      "90000 90% (2m 35s) 4.7273 Gerstle / Polish ✗ (German)\n",
      "95000 95% (2m 45s) 0.1853 Mackenzie / Scottish ✓\n",
      "100000 100% (2m 53s) 0.3523 Couture / French ✓\n"
     ]
    }
   ],
   "source": [
    "n_iters = 100000\n",
    "print_every = 5000\n",
    "plot_every = 1000\n",
    "\n",
    "\n",
    "\n",
    "# Keep track of losses for plotting\n",
    "current_loss = 0\n",
    "all_losses = []\n",
    "\n",
    "def timeSince(since):\n",
    "    now = time.time()\n",
    "    s = now - since\n",
    "    m = math.floor(s / 60)\n",
    "    s -= m * 60\n",
    "    return '%dm %ds' % (m, s)\n",
    "\n",
    "start = time.time()\n",
    "\n",
    "for iter in range(1, n_iters + 1):\n",
    "    category, line, category_tensor, line_tensor = randomTrainingExample()\n",
    "    output, loss = train(category_tensor, line_tensor)\n",
    "    current_loss += loss\n",
    "\n",
    "    # Print iter number, loss, name and guess\n",
    "    if iter % print_every == 0:\n",
    "        guess, guess_i = categoryFromOutput(output)\n",
    "        correct = '✓' if guess == category else '✗ (%s)' % category\n",
    "        print('%d %d%% (%s) %.4f %s / %s %s' % (iter, iter / n_iters * 100, timeSince(start), loss, line, guess, correct))\n",
    "\n",
    "    # Add current loss avg to list of losses\n",
    "    if iter % plot_every == 0:\n",
    "        all_losses.append(current_loss / plot_every)\n",
    "        current_loss = 0"
   ]
  },
  {
   "cell_type": "code",
   "execution_count": 60,
   "id": "05cf6b02-2c2d-499d-8785-e32b1300d400",
   "metadata": {},
   "outputs": [
    {
     "data": {
      "text/plain": [
       "[<matplotlib.lines.Line2D at 0x7fb486fa7f60>]"
      ]
     },
     "execution_count": 60,
     "metadata": {},
     "output_type": "execute_result"
    },
    {
     "data": {
      "image/png": "[encoded data removed]",
      "text/plain": [
       "<Figure size 432x288 with 1 Axes>"
      ]
     },
     "metadata": {
      "needs_background": "light"
     },
     "output_type": "display_data"
    }
   ],
   "source": [
    "plt.figure()\n",
    "plt.plot(all_losses)"
   ]
  },
  {
   "cell_type": "code",
   "execution_count": 61,
   "id": "2fa88cf3-be2b-4807-9fa7-13f4434ef959",
   "metadata": {},
   "outputs": [
    {
     "name": "stderr",
     "output_type": "stream",
     "text": [
      "/usr/local/lib/python3.6/dist-packages/ipykernel_launcher.py:33: UserWarning: FixedFormatter should only be used together with FixedLocator\n",
      "/usr/local/lib/python3.6/dist-packages/ipykernel_launcher.py:34: UserWarning: FixedFormatter should only be used together with FixedLocator\n"
     ]
    },
    {
     "data": {
      "image/png": "[encoded data removed]",
      "text/plain": [
       "<Figure size 432x288 with 2 Axes>"
      ]
     },
     "metadata": {
      "needs_background": "light"
     },
     "output_type": "display_data"
    }
   ],
   "source": [
    "# Keep track of correct guesses in a confusion matrix\n",
    "confusion = torch.zeros(n_categories, n_categories)\n",
    "n_confusion = 10000\n",
    "\n",
    "# Just return an output given a line\n",
    "def evaluate(line_tensor):\n",
    "    hidden = rnn.initHidden()\n",
    "\n",
    "    for i in range(line_tensor.size()[0]):\n",
    "        output, hidden = rnn(line_tensor[i], hidden)\n",
    "\n",
    "    return output\n",
    "\n",
    "# Go through a bunch of examples and record which are correctly guessed\n",
    "for i in range(n_confusion):\n",
    "    category, line, category_tensor, line_tensor = randomTrainingExample()\n",
    "    output = evaluate(line_tensor)\n",
    "    guess, guess_i = categoryFromOutput(output)\n",
    "    category_i = all_categories.index(category)\n",
    "    confusion[category_i][guess_i] += 1\n",
    "\n",
    "# Normalize by dividing every row by its sum\n",
    "for i in range(n_categories):\n",
    "    confusion[i] = confusion[i] / confusion[i].sum()\n",
    "\n",
    "# Set up plot\n",
    "fig = plt.figure()\n",
    "ax = fig.add_subplot(111)\n",
    "cax = ax.matshow(confusion.numpy())\n",
    "fig.colorbar(cax)\n",
    "\n",
    "# Set up axes\n",
    "ax.set_xticklabels([''] + all_categories, rotation=90)\n",
    "ax.set_yticklabels([''] + all_categories)\n",
    "\n",
    "# Force label at every tick\n",
    "ax.xaxis.set_major_locator(ticker.MultipleLocator(1))\n",
    "ax.yaxis.set_major_locator(ticker.MultipleLocator(1))\n",
    "\n",
    "# sphinx_gallery_thumbnail_number = 2\n",
    "plt.show()"
   ]
  },
  {
   "cell_type": "code",
   "execution_count": 62,
   "id": "b6e01479-22a6-43ee-9097-b278e4f84d54",
   "metadata": {},
   "outputs": [],
   "source": [
    "def predict(input_line, n_predictions=3):\n",
    "    print('\\n> %s' % input_line)\n",
    "    with torch.no_grad():\n",
    "        output = evaluate(lineToTensor(input_line))\n",
    "\n",
    "        # Get top N categories\n",
    "        topv, topi = output.topk(n_predictions, 1, True)\n",
    "        predictions = []\n",
    "\n",
    "        for i in range(n_predictions):\n",
    "            value = topv[0][i].item()\n",
    "            category_index = topi[0][i].item()\n",
    "            print('(%.2f) %s' % (value, all_categories[category_index]))\n",
    "            predictions.append([value, all_categories[category_index]])"
   ]
  },
  {
   "cell_type": "code",
   "execution_count": 63,
   "id": "159e0821-751e-4988-94fc-27e72e877393",
   "metadata": {},
   "outputs": [
    {
     "name": "stdout",
     "output_type": "stream",
     "text": [
      "\n",
      "> Dovesky\n",
      "(-0.23) Russian\n",
      "(-1.78) Czech\n",
      "(-4.35) English\n"
     ]
    }
   ],
   "source": [
    "predict('Dovesky')"
   ]
  },
  {
   "cell_type": "code",
   "execution_count": 64,
   "id": "b408a8c8-7061-4188-958a-4fca409ff754",
   "metadata": {},
   "outputs": [
    {
     "name": "stdout",
     "output_type": "stream",
     "text": [
      "\n",
      "> Jackson\n",
      "(-0.35) Scottish\n",
      "(-1.73) Russian\n",
      "(-2.69) English\n"
     ]
    }
   ],
   "source": [
    "predict('Jackson')"
   ]
  },
  {
   "cell_type": "code",
   "execution_count": 65,
   "id": "b3b38c6e-f75a-4693-b655-88613257171b",
   "metadata": {},
   "outputs": [
    {
     "name": "stdout",
     "output_type": "stream",
     "text": [
      "\n",
      "> Satoshi\n",
      "(-0.55) Japanese\n",
      "(-2.02) Polish\n",
      "(-2.24) Arabic\n"
     ]
    }
   ],
   "source": [
    "predict('Satoshi')"
   ]
  },
  {
   "cell_type": "code",
   "execution_count": null,
   "id": "eff67703-91af-473c-b509-a9d8bed38a8d",
   "metadata": {},
   "outputs": [],
   "source": []
  },
  {
   "cell_type": "code",
   "execution_count": null,
   "id": "c2e1f543-54fa-42e3-bb24-529a7ed95f79",
   "metadata": {},
   "outputs": [],
   "source": []
  },
  {
   "cell_type": "code",
   "execution_count": null,
   "id": "ec515456-daf4-41d2-a836-7ea68fe326ee",
   "metadata": {},
   "outputs": [],
   "source": []
  },
  {
   "cell_type": "code",
   "execution_count": null,
   "id": "cd023a9c-f9b0-47d8-aabc-52e2b36e71bc",
   "metadata": {},
   "outputs": [],
   "source": []
  }
 ],
 "metadata": {
  "kernelspec": {
   "display_name": "Python 3",
   "language": "python",
   "name": "python3"
  },
  "language_info": {
   "codemirror_mode": {
    "name": "ipython",
    "version": 3
   },
   "file_extension": ".py",
   "mimetype": "text/x-python",
   "name": "python",
   "nbconvert_exporter": "python",
   "pygments_lexer": "ipython3",
   "version": "3.6.9"
  }
 },
 "nbformat": 4,
 "nbformat_minor": 5
}
