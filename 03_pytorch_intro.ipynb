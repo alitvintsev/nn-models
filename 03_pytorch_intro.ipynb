{
  "nbformat": 4,
  "nbformat_minor": 0,
  "metadata": {
    "colab": {
      "provenance": [],
      "collapsed_sections": [],
      "authorship_tag": "ABX9TyMDhLgPRZ5chbI0M9eK+5VV",
      "include_colab_link": true
    },
    "kernelspec": {
      "name": "python3",
      "display_name": "Python 3"
    },
    "language_info": {
      "name": "python"
    }
  },
  "cells": [
    {
      "cell_type": "markdown",
      "metadata": {
        "id": "view-in-github",
        "colab_type": "text"
      },
      "source": [
        "<a href=\"https://colab.research.google.com/github/alitvintsev/nn-models/blob/master/03_pytorch_intro.ipynb\" target=\"_parent\"><img src=\"https://colab.research.google.com/assets/colab-badge.svg\" alt=\"Open In Colab\"/></a>"
      ]
    },
    {
      "cell_type": "markdown",
      "source": [
        "# PyTorch Intro"
      ],
      "metadata": {
        "id": "950G1QVzU00Y"
      }
    },
    {
      "cell_type": "code",
      "execution_count": 1,
      "metadata": {
        "id": "0UZTrld4UM8v"
      },
      "outputs": [],
      "source": [
        "from glob import glob\n",
        "import shutil\n",
        "import os\n",
        "import sys\n",
        "import time\n",
        "import tarfile\n",
        "import matplotlib.pyplot as plt\n",
        "import numpy as np\n",
        "import json\n",
        "import torch\n",
        "import torchvision\n",
        "from sklearn.datasets import load_boston\n",
        "from IPython.display import clear_output\n",
        "from six.moves.urllib.request import urlretrieve\n",
        "from matplotlib.pyplot import imread\n",
        "from sklearn.model_selection import train_test_split\n",
        "from torch.utils.data import DataLoader, Dataset, Subset"
      ]
    },
    {
      "cell_type": "code",
      "source": [
        "! mkdir ~/.kaggle\n",
        "! touch ~/.kaggle/kaggle.json\n",
        "\n",
        "api_token = {\"username\":\"alitvintsev\",\"key\":\"68093372c6ecb30b6f6b50d18e683cd2\"}\n",
        "\n",
        "with open('/root/.kaggle/kaggle.json', 'w') as file:\n",
        "    json.dump(api_token, file)\n",
        "\n",
        "! chmod 600 ~/.kaggle/kaggle.json"
      ],
      "metadata": {
        "id": "PIzgYvZAJhS1",
        "colab": {
          "base_uri": "https://localhost:8080/"
        },
        "outputId": "e130c660-9b1c-42a9-be8f-84d56c3865d2"
      },
      "execution_count": 2,
      "outputs": [
        {
          "output_type": "stream",
          "name": "stdout",
          "text": [
            "mkdir: cannot create directory ‘/root/.kaggle’: File exists\n"
          ]
        }
      ]
    },
    {
      "cell_type": "code",
      "source": [
        "def load_notmnist(\n",
        "    path=\"./notMNIST_small\", letters=\"ABCDEFGHIJ\", img_shape=(28, 28), test_size=0.25, one_hot=False\n",
        "):\n",
        " \n",
        "    # download data if it's missing. If you have any problems, go to the urls and load it manually.\n",
        "    if not os.path.exists(path):\n",
        "        if not os.path.exists(\"./notMNIST_small.tar.gz\"):\n",
        "            print(\"Downloading data...\")\n",
        "            assert (\n",
        "                os.system(\n",
        "                    \"curl http://yaroslavvb.com/upload/notMNIST/notMNIST_small.tar.gz > notMNIST_small.tar.gz\"\n",
        "                )\n",
        "                == 0\n",
        "            )\n",
        "        print(\"Extracting ...\")\n",
        "        assert os.system(\"tar -zxvf notMNIST_small.tar.gz > untar_notmnist.log\") == 0\n",
        " \n",
        "    data, labels = [], []\n",
        "    print(\"Parsing...\")\n",
        "    for img_path in glob(os.path.join(path, \"*/*\")):\n",
        "        class_i = img_path.split(os.sep)[-2]\n",
        "        if class_i not in letters:\n",
        "            continue\n",
        "        try:\n",
        "            data.append(imread(img_path))\n",
        "            labels.append(\n",
        "                class_i,\n",
        "            )\n",
        "        except BaseException:\n",
        "            print(\"found broken img: %s [it's ok if <10 images are broken]\" % img_path)\n",
        " \n",
        "    data = np.stack(data)[:, None].astype(\"float32\")\n",
        "    data = (data - np.mean(data)) / np.std(data)\n",
        " \n",
        "    # convert classes to ints\n",
        "    letter_to_i = {l: i for i, l in enumerate(letters)}\n",
        "    labels = np.array(list(map(letter_to_i.get, labels)))\n",
        " \n",
        "    if one_hot:\n",
        "        labels = (np.arange(np.max(labels) + 1)[None, :] == labels[:, None]).astype(\"float32\")\n",
        " \n",
        "    # split into train/test\n",
        "    X_train, X_test, y_train, y_test = train_test_split(\n",
        "        data, labels, test_size=test_size, random_state=42\n",
        "    )\n",
        " \n",
        "    print(\"Done\")\n",
        "    return X_train, y_train, X_test, y_test"
      ],
      "metadata": {
        "id": "a3uNthS-HNvd"
      },
      "execution_count": 3,
      "outputs": []
    },
    {
      "cell_type": "markdown",
      "source": [
        "### Pipeline"
      ],
      "metadata": {
        "id": "r6_l02UlU03D"
      }
    },
    {
      "cell_type": "code",
      "source": [
        "df_boston = load_boston()"
      ],
      "metadata": {
        "id": "JFJgwpkyVFNE",
        "colab": {
          "base_uri": "https://localhost:8080/"
        },
        "outputId": "cf79d8ff-b996-4207-90ff-eb7ff282de2d"
      },
      "execution_count": 4,
      "outputs": [
        {
          "output_type": "stream",
          "name": "stderr",
          "text": [
            "/usr/local/lib/python3.7/dist-packages/sklearn/utils/deprecation.py:87: FutureWarning: Function load_boston is deprecated; `load_boston` is deprecated in 1.0 and will be removed in 1.2.\n",
            "\n",
            "    The Boston housing prices dataset has an ethical problem. You can refer to\n",
            "    the documentation of this function for further details.\n",
            "\n",
            "    The scikit-learn maintainers therefore strongly discourage the use of this\n",
            "    dataset unless the purpose of the code is to study and educate about\n",
            "    ethical issues in data science and machine learning.\n",
            "\n",
            "    In this special case, you can fetch the dataset from the original\n",
            "    source::\n",
            "\n",
            "        import pandas as pd\n",
            "        import numpy as np\n",
            "\n",
            "\n",
            "        data_url = \"http://lib.stat.cmu.edu/datasets/boston\"\n",
            "        raw_df = pd.read_csv(data_url, sep=\"\\s+\", skiprows=22, header=None)\n",
            "        data = np.hstack([raw_df.values[::2, :], raw_df.values[1::2, :2]])\n",
            "        target = raw_df.values[1::2, 2]\n",
            "\n",
            "    Alternative datasets include the California housing dataset (i.e.\n",
            "    :func:`~sklearn.datasets.fetch_california_housing`) and the Ames housing\n",
            "    dataset. You can load the datasets as follows::\n",
            "\n",
            "        from sklearn.datasets import fetch_california_housing\n",
            "        housing = fetch_california_housing()\n",
            "\n",
            "    for the California housing dataset and::\n",
            "\n",
            "        from sklearn.datasets import fetch_openml\n",
            "        housing = fetch_openml(name=\"house_prices\", as_frame=True)\n",
            "\n",
            "    for the Ames housing dataset.\n",
            "    \n",
            "  warnings.warn(msg, category=FutureWarning)\n"
          ]
        }
      ]
    },
    {
      "cell_type": "code",
      "source": [
        "plt.scatter(df_boston.data[:, -1], df_boston.target)"
      ],
      "metadata": {
        "colab": {
          "base_uri": "https://localhost:8080/",
          "height": 283
        },
        "id": "wc9tW5hiVM2q",
        "outputId": "5a542180-d179-47ff-f1df-6488c9291a3c"
      },
      "execution_count": 5,
      "outputs": [
        {
          "output_type": "execute_result",
          "data": {
            "text/plain": [
              "<matplotlib.collections.PathCollection at 0x7f743de17f50>"
            ]
          },
          "metadata": {},
          "execution_count": 5
        },
        {
          "output_type": "display_data",
          "data": {
            "text/plain": [
              "<Figure size 432x288 with 1 Axes>"
            ],
            "image/png": "[encoded data removed]"
          },
          "metadata": {
            "needs_background": "light"
          }
        }
      ]
    },
    {
      "cell_type": "code",
      "source": [
        "w = torch.zeros(1, requires_grad=True)\n",
        "b = torch.zeros(1, requires_grad=True)"
      ],
      "metadata": {
        "id": "Z3rhzFQtV0uh"
      },
      "execution_count": 6,
      "outputs": []
    },
    {
      "cell_type": "code",
      "source": [
        "x = torch.tensor(df_boston.data[:, -1] / 10, dtype=torch.float32)\n",
        "y = torch.tensor(df_boston.target, dtype=torch.float32)"
      ],
      "metadata": {
        "id": "Hl0bQpjpV0xJ"
      },
      "execution_count": 7,
      "outputs": []
    },
    {
      "cell_type": "code",
      "source": [
        "losses = []\n",
        "n_epochs = 500\n",
        "lr = 0.05\n",
        "\n",
        "for i in range(n_epochs):\n",
        "    # forward\n",
        "    y_pred = w * x + b\n",
        "    loss = torch.mean((y_pred - y) ** 2)\n",
        "    losses.append(loss.item())\n",
        "\n",
        "    # backward\n",
        "    loss.backward()\n",
        "\n",
        "    # update\n",
        "    w.data -= lr * w.grad.data\n",
        "    b.data -= lr * b.grad.data \n",
        "\n",
        "    # zero gradients\n",
        "    w.grad.data.zero_()\n",
        "    b.grad.data.zero_()\n",
        "\n",
        "    # plot\n",
        "    if (i + 1) % 5 == 0:\n",
        "        clear_output(True)\n",
        "        plt.scatter(x.data.numpy(), y.data.numpy())\n",
        "        plt.scatter(x.data.numpy(), y_pred.data.numpy(), color='orange', linewidths=5)\n",
        "        plt.show()\n",
        "\n",
        "        print('loss = ', loss.data.numpy())\n",
        "\n",
        "        if loss.data.numpy() < 0.5:\n",
        "            print('Done!')\n",
        "            break\n"
      ],
      "metadata": {
        "id": "ASnb1G90V0zd",
        "colab": {
          "base_uri": "https://localhost:8080/",
          "height": 283
        },
        "outputId": "dad3a845-3267-4dcf-e911-29c32480a78d"
      },
      "execution_count": 8,
      "outputs": [
        {
          "output_type": "display_data",
          "data": {
            "text/plain": [
              "<Figure size 432x288 with 1 Axes>"
            ],
            "image/png": "[encoded data removed]"
          },
          "metadata": {
            "needs_background": "light"
          }
        },
        {
          "output_type": "stream",
          "name": "stdout",
          "text": [
            "loss =  38.48297\n"
          ]
        }
      ]
    },
    {
      "cell_type": "markdown",
      "source": [
        "## High-Level PyTorch"
      ],
      "metadata": {
        "id": "rWVC3p-5BhSx"
      }
    },
    {
      "cell_type": "code",
      "source": [
        "! kaggle datasets download -d quanbk/notmnist"
      ],
      "metadata": {
        "colab": {
          "base_uri": "https://localhost:8080/"
        },
        "id": "s5AJZw5rIvNd",
        "outputId": "3c56dfb6-0915-41d9-a63c-ac82ebb7769e"
      },
      "execution_count": 9,
      "outputs": [
        {
          "output_type": "stream",
          "name": "stdout",
          "text": [
            "notmnist.zip: Skipping, found more recently modified local copy (use --force to force download)\n"
          ]
        }
      ]
    },
    {
      "cell_type": "code",
      "source": [
        "! unzip notmnist.zip && ls -l"
      ],
      "metadata": {
        "colab": {
          "base_uri": "https://localhost:8080/"
        },
        "id": "0y-1x-6_uXvM",
        "outputId": "c88ffc00-f359-4a9a-eb89-68697ec1e52d"
      },
      "execution_count": 10,
      "outputs": [
        {
          "output_type": "stream",
          "name": "stdout",
          "text": [
            "Archive:  notmnist.zip\n",
            "replace notMNIST_large.tar.gz? [y]es, [n]o, [A]ll, [N]one, [r]ename: N\n",
            "total 499692\n",
            "drwxr-xr-x 12 root root      4096 Sep 18 15:58 notMNIST_large\n",
            "-rw-r--r--  1 root root 247336696 Nov 21  2019 notMNIST_large.tar.gz\n",
            "drwxr-xr-x 12 root root      4096 Sep 18 15:58 notMNIST_small\n",
            "-rw-r--r--  1 root root   8458043 Nov 21  2019 notMNIST_small.tar.gz\n",
            "-rw-r--r--  1 root root 255877061 Sep 18 15:56 notmnist.zip\n",
            "drwxr-xr-x  1 root root      4096 Sep 14 13:44 sample_data\n"
          ]
        }
      ]
    },
    {
      "cell_type": "code",
      "source": [
        "num_classes = 10\n",
        "np.random.seed(133)\n",
        "\n",
        "def move_files(source_dir, target_dir):\n",
        "    print(source_dir)\n",
        "    print(target_dir)\n",
        "    file_names = os.listdir(source_dir)\n",
        "    for file_name in file_names:\n",
        "        shutil.move(os.path.join(source_dir, file_name), target_dir)\n",
        "    shutil.rmtree(source_dir)\n",
        "\n",
        "\n",
        "def maybe_extract(filename, force=False):\n",
        "  root = os.path.splitext(os.path.splitext(filename)[0])[0]  # remove .tar.gz\n",
        "  print(root)\n",
        "  if os.path.isdir(root) and not force:\n",
        "    # You may override by setting force=True.\n",
        "    print('%s already present - Skipping extraction of %s.' % (root, filename))\n",
        "  else:\n",
        "    print('Extracting data for %s. This may take a while. Please wait.' % root)\n",
        "    tar = tarfile.open(filename)\n",
        "    sys.stdout.flush()\n",
        "    tar.extractall(root)\n",
        "    tar.close()\n",
        "  \n",
        "  source_dir = root + '/' + root[2:]\n",
        "  move_files(source_dir, root)\n",
        "\n",
        "  data_folders = [\n",
        "    os.path.join(root, d) for d in sorted(os.listdir(root))\n",
        "    if os.path.isdir(os.path.join(root, d))]\n",
        "  if len(data_folders) != num_classes:\n",
        "    raise Exception(\n",
        "      'Expected %d folders, one per class. Found %d instead.' % (\n",
        "        num_classes, len(data_folders)))\n",
        "  print(data_folders)\n",
        "  return data_folders"
      ],
      "metadata": {
        "id": "sVvDDjj9uTtI"
      },
      "execution_count": 11,
      "outputs": []
    },
    {
      "cell_type": "code",
      "source": [
        "train_filename = './notMNIST_large.tar.gz'\n",
        "test_filename = './notMNIST_small.tar.gz'"
      ],
      "metadata": {
        "id": "HF3Uqh4ZyM79"
      },
      "execution_count": 12,
      "outputs": []
    },
    {
      "cell_type": "code",
      "source": [
        "! ls -l notMNIST_large/"
      ],
      "metadata": {
        "colab": {
          "base_uri": "https://localhost:8080/"
        },
        "id": "KcnFR4Cn6VSw",
        "outputId": "e9f0d115-bc85-4665-f31e-9f80e102e02f"
      },
      "execution_count": 13,
      "outputs": [
        {
          "output_type": "stream",
          "name": "stdout",
          "text": [
            "total 30440\n",
            "drwxrwxr-x 2 133040 5000 3117056 Aug  9  2011 A\n",
            "drwxrwxr-x 2 133040 5000 3117056 Aug  9  2011 B\n",
            "drwxrwxr-x 2 133040 5000 3117056 Aug  9  2011 C\n",
            "drwxrwxr-x 2 133040 5000 3117056 Aug  9  2011 D\n",
            "drwxrwxr-x 2 133040 5000 3117056 Aug  9  2011 E\n",
            "drwxrwxr-x 2 133040 5000 3117056 Aug  9  2011 F\n",
            "drwxrwxr-x 2 133040 5000 3117056 Aug  9  2011 G\n",
            "drwxrwxr-x 2 133040 5000 3117056 Aug  9  2011 H\n",
            "drwxrwxr-x 2 133040 5000 3117056 Aug  9  2011 I\n",
            "drwxrwxr-x 2 133040 5000 3117056 Aug  9  2011 J\n"
          ]
        }
      ]
    },
    {
      "cell_type": "code",
      "source": [
        "train_folders = maybe_extract(train_filename)\n",
        "test_folders = maybe_extract(test_filename)"
      ],
      "metadata": {
        "id": "xT2oovkCuoSI"
      },
      "execution_count": null,
      "outputs": []
    },
    {
      "cell_type": "code",
      "source": [
        "characters = 'abcdefghij'.upper()  # sub folders to choose images from \n",
        "image_per_folder = 4 # number of images to show for each folder"
      ],
      "metadata": {
        "id": "QQuMCZuRuoUZ"
      },
      "execution_count": 16,
      "outputs": []
    },
    {
      "cell_type": "code",
      "source": [
        "BASE_PATH = './notMNIST_small/'\n",
        "\n",
        "list_of_images = []\n",
        "for _ in range(image_per_folder):\n",
        "    for char in characters:\n",
        "        char_folder = BASE_PATH + char + '/'\n",
        "        images = os.listdir(char_folder)\n",
        "        image_file_name = images[np.random.randint(len(images))]\n",
        "        list_of_images.append(char_folder + image_file_name)\n",
        "    \n",
        "\n",
        "def showImagesHorizontally(list_of_files):\n",
        "    from matplotlib.pyplot import figure, imshow, axis\n",
        "    from matplotlib.image import imread\n",
        "    \n",
        "    number_of_files = len(list_of_files)\n",
        "    num_char = len(characters)\n",
        "    \n",
        "    for row in range(int(number_of_files/num_char)):\n",
        "        fig = figure(figsize=(15, 5))\n",
        "        \n",
        "        for i in range(num_char):\n",
        "            a = fig.add_subplot(1, num_char, i + 1)\n",
        "            image = imread(list_of_files[row * num_char + i])\n",
        "            imshow(image, cmap='gray')\n",
        "            axis('off')"
      ],
      "metadata": {
        "id": "4Cgz5AVy-aX7"
      },
      "execution_count": 17,
      "outputs": []
    },
    {
      "cell_type": "code",
      "source": [
        "X_train, y_train, X_test, y_test = load_notmnist(letters='AB')\n",
        "X_train, X_test = X_train.reshape([-1, 784]), X_test.reshape([-1, 784])"
      ],
      "metadata": {
        "colab": {
          "base_uri": "https://localhost:8080/"
        },
        "id": "HEQaKXHI-acz",
        "outputId": "e4868500-4009-492e-b04d-99d3f5254ee5"
      },
      "execution_count": 18,
      "outputs": [
        {
          "output_type": "stream",
          "name": "stdout",
          "text": [
            "Parsing...\n",
            "found broken img: ./notMNIST_small/A/RGVtb2NyYXRpY2FCb2xkT2xkc3R5bGUgQm9sZC50dGY=.png [it's ok if <10 images are broken]\n",
            "Done\n"
          ]
        }
      ]
    },
    {
      "cell_type": "code",
      "source": [
        "for i in [0, 1]:\n",
        "  plt.subplot(1, 2, i + 1)\n",
        "  plt.imshow(X_train[i].reshape([28, 28]))\n",
        "  plt.title(str(y_train[i]))"
      ],
      "metadata": {
        "colab": {
          "base_uri": "https://localhost:8080/",
          "height": 216
        },
        "id": "thu_6sGP-afe",
        "outputId": "6641e23b-0537-400c-be33-9a55208af1a0"
      },
      "execution_count": 19,
      "outputs": [
        {
          "output_type": "display_data",
          "data": {
            "text/plain": [
              "<Figure size 432x288 with 2 Axes>"
            ],
            "image/png": "[encoded data removed]"
          },
          "metadata": {
            "needs_background": "light"
          }
        }
      ]
    },
    {
      "cell_type": "code",
      "source": [
        "from torch import nn\n",
        "import torch.nn.functional as F"
      ],
      "metadata": {
        "id": "hWrDfcor-aiH"
      },
      "execution_count": 20,
      "outputs": []
    },
    {
      "cell_type": "code",
      "source": [
        "print(nn.Module.__doc__)"
      ],
      "metadata": {
        "colab": {
          "base_uri": "https://localhost:8080/"
        },
        "id": "ZqUJaBU4-ak9",
        "outputId": "57c95c14-cfb0-4359-85ae-d3b99004d8b6"
      },
      "execution_count": 21,
      "outputs": [
        {
          "output_type": "stream",
          "name": "stdout",
          "text": [
            "Base class for all neural network modules.\n",
            "\n",
            "    Your models should also subclass this class.\n",
            "\n",
            "    Modules can also contain other Modules, allowing to nest them in\n",
            "    a tree structure. You can assign the submodules as regular attributes::\n",
            "\n",
            "        import torch.nn as nn\n",
            "        import torch.nn.functional as F\n",
            "\n",
            "        class Model(nn.Module):\n",
            "            def __init__(self):\n",
            "                super().__init__()\n",
            "                self.conv1 = nn.Conv2d(1, 20, 5)\n",
            "                self.conv2 = nn.Conv2d(20, 20, 5)\n",
            "\n",
            "            def forward(self, x):\n",
            "                x = F.relu(self.conv1(x))\n",
            "                return F.relu(self.conv2(x))\n",
            "\n",
            "    Submodules assigned in this way will be registered, and will have their\n",
            "    parameters converted too when you call :meth:`to`, etc.\n",
            "\n",
            "    .. note::\n",
            "        As per the example above, an ``__init__()`` call to the parent class\n",
            "        must be made before assignment on the child.\n",
            "\n",
            "    :ivar training: Boolean represents whether this module is in training or\n",
            "                    evaluation mode.\n",
            "    :vartype training: bool\n",
            "    \n"
          ]
        }
      ]
    },
    {
      "cell_type": "markdown",
      "source": [
        "### Create model"
      ],
      "metadata": {
        "id": "nbATJi1qU05Z"
      }
    },
    {
      "cell_type": "code",
      "source": [
        "model = nn.Sequential(nn.Linear(784, 1), nn.Sigmoid())"
      ],
      "metadata": {
        "id": "OxQzw3DcuCP8"
      },
      "execution_count": 22,
      "outputs": []
    },
    {
      "cell_type": "code",
      "source": [
        "print('Weight shapes: ', [w.shape for w in model.parameters()])"
      ],
      "metadata": {
        "colab": {
          "base_uri": "https://localhost:8080/"
        },
        "id": "450akOalKVdi",
        "outputId": "f2667b96-2e9f-4c51-a2cf-81d79a9ed539"
      },
      "execution_count": 23,
      "outputs": [
        {
          "output_type": "stream",
          "name": "stdout",
          "text": [
            "Weight shapes:  [torch.Size([1, 784]), torch.Size([1])]\n"
          ]
        }
      ]
    },
    {
      "cell_type": "code",
      "source": [
        "learning_rate = 0.01\n",
        "opt = torch.optim.SGD(model.parameters(), lr=learning_rate)"
      ],
      "metadata": {
        "id": "1I8P3A1rOwHX"
      },
      "execution_count": 24,
      "outputs": []
    },
    {
      "cell_type": "code",
      "source": [
        "batch_size = 256\n",
        "\n",
        "history = []\n",
        "\n",
        "for i in range(100):\n",
        "    ix = np.random.randint(0, len(X_train), batch_size)\n",
        "    x_batch = torch.tensor(X_train[ix], dtype=torch.float32)\n",
        "    y_batch = torch.tensor(y_train[ix], dtype=torch.float32)\n",
        "\n",
        "    y_predicted = model(x_batch)[:, 0]\n",
        "\n",
        "    crossentropy = F.binary_cross_entropy(y_predicted, y_batch, reduction='none')\n",
        "\n",
        "    loss = torch.mean(crossentropy, dim=0, keepdim=True)\n",
        "\n",
        "    loss.backward()\n",
        "\n",
        "    opt.step()\n",
        "\n",
        "    opt.zero_grad()\n",
        "\n",
        "    history.append(loss.item())\n",
        "\n",
        "    if i % 10 == 0:\n",
        "        print('Step: {}, Mean loss: {}'.format(i, np.mean(history[-10:])))"
      ],
      "metadata": {
        "colab": {
          "base_uri": "https://localhost:8080/"
        },
        "id": "Z_O8jP9kKXG4",
        "outputId": "6d3661f4-f0e9-41d3-cb7c-7562ea1716d2"
      },
      "execution_count": 25,
      "outputs": [
        {
          "output_type": "stream",
          "name": "stdout",
          "text": [
            "Step: 0, Mean loss: 0.8184692859649658\n",
            "Step: 10, Mean loss: 0.36094728112220764\n",
            "Step: 20, Mean loss: 0.22329979240894318\n",
            "Step: 30, Mean loss: 0.1785984143614769\n",
            "Step: 40, Mean loss: 0.16262853890657425\n",
            "Step: 50, Mean loss: 0.14645501375198364\n",
            "Step: 60, Mean loss: 0.1259693630039692\n",
            "Step: 70, Mean loss: 0.12141789421439171\n",
            "Step: 80, Mean loss: 0.11140520647168159\n",
            "Step: 90, Mean loss: 0.11616774946451187\n"
          ]
        }
      ]
    },
    {
      "cell_type": "code",
      "source": [
        "plt.plot(history)"
      ],
      "metadata": {
        "colab": {
          "base_uri": "https://localhost:8080/",
          "height": 283
        },
        "id": "jh1PBPXdKXJv",
        "outputId": "62e2ecd5-af9a-443e-f491-a7e17bdae9a4"
      },
      "execution_count": 26,
      "outputs": [
        {
          "output_type": "execute_result",
          "data": {
            "text/plain": [
              "[<matplotlib.lines.Line2D at 0x7f743d833f50>]"
            ]
          },
          "metadata": {},
          "execution_count": 26
        },
        {
          "output_type": "display_data",
          "data": {
            "text/plain": [
              "<Figure size 432x288 with 1 Axes>"
            ],
            "image/png": "[encoded data removed]"
          },
          "metadata": {
            "needs_background": "light"
          }
        }
      ]
    },
    {
      "cell_type": "markdown",
      "source": [
        "## Optimization and Regularization"
      ],
      "metadata": {
        "id": "ZMoekPG5XC_W"
      }
    },
    {
      "cell_type": "code",
      "source": [
        "device = torch.device('cuda') if torch.cuda.is_available() else torch.device('cpu')\n",
        "device"
      ],
      "metadata": {
        "colab": {
          "base_uri": "https://localhost:8080/"
        },
        "id": "X7WT1JMmTqwc",
        "outputId": "54a350ab-6691-42e1-9221-b357b86b4a66"
      },
      "execution_count": 27,
      "outputs": [
        {
          "output_type": "execute_result",
          "data": {
            "text/plain": [
              "device(type='cpu')"
            ]
          },
          "metadata": {},
          "execution_count": 27
        }
      ]
    },
    {
      "cell_type": "code",
      "source": [
        "class DatasetMNIST(Dataset):\n",
        "  def __init__(self, path='./notMNIST_small', letters='ABCDEFGHIJ', transform=None):\n",
        "    self.data, self.labels, _, _ = load_notmnist(path=path, letters=letters, test_size=0.2)\n",
        "    self.transform = transform\n",
        "\n",
        "  def __len__(self):\n",
        "    return len(self.data)\n",
        "\n",
        "  def __getitem__(self, index):\n",
        "    image = self.data[index].transpose(1, 2, 0)\n",
        "    label = self.labels[index]\n",
        "\n",
        "    if self.transform is not None:\n",
        "      image = self.transform(image)\n",
        "\n",
        "    return image, label"
      ],
      "metadata": {
        "id": "FKgJv-55KXOa"
      },
      "execution_count": 28,
      "outputs": []
    },
    {
      "cell_type": "code",
      "source": [
        "full_dataset = DatasetMNIST(path='./notMNIST_small', letters='AB')"
      ],
      "metadata": {
        "colab": {
          "base_uri": "https://localhost:8080/"
        },
        "id": "qs_zrPnXr-0k",
        "outputId": "e0582462-ea4d-46cf-947f-22e826c86a80"
      },
      "execution_count": 29,
      "outputs": [
        {
          "output_type": "stream",
          "name": "stdout",
          "text": [
            "Parsing...\n",
            "found broken img: ./notMNIST_small/A/RGVtb2NyYXRpY2FCb2xkT2xkc3R5bGUgQm9sZC50dGY=.png [it's ok if <10 images are broken]\n",
            "Done\n"
          ]
        }
      ]
    },
    {
      "cell_type": "code",
      "source": [
        "class Flatten:\n",
        "    def __call__(self, pic):\n",
        "        return pic.flatten()\n",
        "\n",
        "    def __repr__(self):\n",
        "        return self.__class__.__name__ + '()'"
      ],
      "metadata": {
        "id": "SwU0MiTnmtVa"
      },
      "execution_count": 30,
      "outputs": []
    },
    {
      "cell_type": "code",
      "source": [
        "transforms = torchvision.transforms.Compose([\n",
        "    # torchvision.transforms.CenterCrop(size=14),\n",
        "    # torchvision.transforms.Resize((640, 460)),\n",
        "    torchvision.transforms.ToTensor(),\n",
        "    Flatten()\n",
        "])"
      ],
      "metadata": {
        "id": "YcUiYSn3kXLr"
      },
      "execution_count": 41,
      "outputs": []
    },
    {
      "cell_type": "code",
      "source": [
        "loss_fn = nn.CrossEntropyLoss()"
      ],
      "metadata": {
        "id": "0X8a8ya7jyYA"
      },
      "execution_count": 42,
      "outputs": []
    },
    {
      "cell_type": "code",
      "source": [
        "def subset_inds(dataset, ratio: float):\n",
        "    return np.random.choice(len(dataset), size=int(ratio * len(dataset)), replace=False)"
      ],
      "metadata": {
        "id": "HrpgUeK6n2Xf"
      },
      "execution_count": 43,
      "outputs": []
    },
    {
      "cell_type": "code",
      "source": [
        "dataset = DatasetMNIST(path='./notMNIST_small', letters='AB', transform=None)\n",
        "shrink_inds = subset_inds(dataset, 0.2)\n",
        "dataset = Subset(dataset, shrink_inds)"
      ],
      "metadata": {
        "colab": {
          "base_uri": "https://localhost:8080/"
        },
        "id": "OHufcGm6oTFc",
        "outputId": "3a5dea33-c218-4a29-e4b0-2df323915086"
      },
      "execution_count": 53,
      "outputs": [
        {
          "output_type": "stream",
          "name": "stdout",
          "text": [
            "Parsing...\n",
            "found broken img: ./notMNIST_small/A/RGVtb2NyYXRpY2FCb2xkT2xkc3R5bGUgQm9sZC50dGY=.png [it's ok if <10 images are broken]\n",
            "Done\n"
          ]
        }
      ]
    },
    {
      "cell_type": "code",
      "source": [
        "val_size = 0.2\n",
        "val_inds = subset_inds(dataset, val_size)\n",
        "\n",
        "train_dataset = Subset(dataset, [i for i in range(len(dataset)) if i not in val_inds])\n",
        "val_dataset = Subset(dataset, shrink_inds)"
      ],
      "metadata": {
        "id": "rBxAbpVmt40R"
      },
      "execution_count": 54,
      "outputs": []
    },
    {
      "cell_type": "code",
      "source": [
        "batch_size = 32\n",
        "\n",
        "train_loader = DataLoader(train_dataset, batch_size=batch_size, shuffle=True)\n",
        "val_loader = DataLoader(val_dataset, batch_size=batch_size, shuffle=False)"
      ],
      "metadata": {
        "id": "oWjnj4UqKXME"
      },
      "execution_count": 55,
      "outputs": []
    },
    {
      "cell_type": "code",
      "source": [
        "default_type = torch.float32"
      ],
      "metadata": {
        "id": "bymtUrY-uutN"
      },
      "execution_count": 56,
      "outputs": []
    },
    {
      "cell_type": "code",
      "source": [
        "model = nn.Sequential(\n",
        "    nn.Linear(784, 10),\n",
        "    nn.Sigmoid()\n",
        ")\n",
        "model.to(device, default_type)\n",
        "\n",
        "opt = torch.optim.Adam(model.parameters(), lr=1e-3)"
      ],
      "metadata": {
        "id": "_sxT8XASuouD"
      },
      "execution_count": 57,
      "outputs": []
    },
    {
      "cell_type": "code",
      "source": [
        "def train_model(model, train_loader, val_loader, loss_fn, opt, n_epochs, device=device):\n",
        "    train_loss = []\n",
        "    val_loss = []\n",
        "    val_accuracy = []\n",
        "\n",
        "    for epoch in range(n_epochs):\n",
        "        ep_train_loss = []\n",
        "        ep_val_loss = []\n",
        "        ep_val_accuracy = []\n",
        "        start_time = time.time()\n",
        "\n",
        "        model.train(True)\n",
        "\n",
        "        for X_batch, y_batch in train_loader:\n",
        "            X_batch, y_batch = X_batch.to(device), y_batch.to(device)\n",
        "\n",
        "            preds = model(X_batch)\n",
        "            loss = loss_fn(preds, y_batch)\n",
        "\n",
        "            opt.zero_grad()\n",
        "            loss.backward()\n",
        "\n",
        "            opt.step()\n",
        "\n",
        "            ep_train_loss.append(loss.item())\n",
        "\n",
        "        model.train(False)\n",
        "\n",
        "        with torch.no_grad():\n",
        "            for X_batch, y_batch in val_loader:\n",
        "                X_batch, y_batch = X_batch.to(device), y_batch.to(device)\n",
        "\n",
        "                preds = model(X_batch)\n",
        "                loss = loss_fn(preds, y_batch)\n",
        "\n",
        "                ep_val_loss.append(loss.item())\n",
        "                y_pred = preds.max(-1)[1]\n",
        "                ep_val_accuracy.append((y_pred == y_batch).to(default_type).mean().item())\n",
        "    \n",
        "    print(f'Epoch {epoch + 1} of {n_epochs} took {time.time() - start_time:.3f}s')\n",
        "\n",
        "    train_loss.append(np.mean(ep_train_loss))\n",
        "    val_loss.append(np.mean(ep_val_loss))\n",
        "    val_accuracy.append(ep_val_accuracy)\n",
        "\n",
        "    print(f'\\t  training loss: {train_loss[-1]:.6f}')\n",
        "    print(f'\\tvalidation loss: {val_loss[-1]:.6f}')\n",
        "    print(f'\\tvalidation accuracy: {val_accuracy[-1]:.3f}')\n",
        "\n",
        "    return train_loss, val_loss, val_accuracy"
      ],
      "metadata": {
        "id": "Q-vqc5iMbEVI"
      },
      "execution_count": 60,
      "outputs": []
    },
    {
      "cell_type": "code",
      "source": [
        "n_epochs = 30\n",
        "\n",
        "train_loss, val_loss, val_accuracy = train_model(\n",
        "    model, train_loader, val_loader, loss_fn, opt, n_epochs)"
      ],
      "metadata": {
        "id": "z3mTlhUuvomR"
      },
      "execution_count": null,
      "outputs": []
    },
    {
      "cell_type": "code",
      "source": [],
      "metadata": {
        "id": "hiRjpgn5v8Mo"
      },
      "execution_count": 59,
      "outputs": []
    }
  ]
}