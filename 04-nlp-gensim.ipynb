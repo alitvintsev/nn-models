{
 "cells": [
  {
   "cell_type": "markdown",
   "id": "2ac65419-79f9-48e2-925b-f0cee45804d9",
   "metadata": {},
   "source": [
    "# Gensim"
   ]
  },
  {
   "cell_type": "code",
   "execution_count": 2,
   "id": "0553f113-e6a7-42e5-ad7f-c5799c1d9e79",
   "metadata": {},
   "outputs": [
    {
     "name": "stdout",
     "output_type": "stream",
     "text": [
      "Collecting gensim\n",
      "  Downloading gensim-4.2.0.tar.gz (23.2 MB)\n",
      "     |████████████████████████████████| 23.2 MB 1.3 MB/s            \n",
      "\u001b[?25h  Preparing metadata (setup.py) ... \u001b[?25ldone\n",
      "\u001b[?25hRequirement already satisfied: numpy>=1.17.0 in /usr/local/lib/python3.6/dist-packages (from gensim) (1.19.5)\n",
      "Requirement already satisfied: scipy>=0.18.1 in /usr/local/lib/python3.6/dist-packages (from gensim) (1.5.4)\n",
      "Requirement already satisfied: smart_open>=1.8.1 in /usr/local/lib/python3.6/dist-packages (from gensim) (5.2.1)\n",
      "Building wheels for collected packages: gensim\n",
      "  Building wheel for gensim (setup.py) ... \u001b[?25ldone\n",
      "\u001b[?25h  Created wheel for gensim: filename=gensim-4.2.0-cp36-cp36m-linux_x86_64.whl size=25525318 sha256=d7d143650eaf7fcdff5f7c1b8be54b9db7a303e6ca24eb3a87a6836f6cc35885\n",
      "  Stored in directory: /root/.cache/pip/wheels/44/1e/2b/b0056a533d057c3ed56c84fbdd79cca690496f4cd7c03c157c\n",
      "Successfully built gensim\n",
      "Installing collected packages: gensim\n",
      "Successfully installed gensim-4.2.0\n",
      "\u001b[33mWARNING: Running pip as the 'root' user can result in broken permissions and conflicting behaviour with the system package manager. It is recommended to use a virtual environment instead: https://pip.pypa.io/warnings/venv\u001b[0m\n"
     ]
    }
   ],
   "source": [
    "! pip install --upgrade gensim"
   ]
  },
  {
   "cell_type": "code",
   "execution_count": 17,
   "id": "23090f41-21b5-43e3-a942-7e0d8fa89d2f",
   "metadata": {},
   "outputs": [],
   "source": [
    "import pprint\n",
    "import pandas as pd\n",
    "from sklearn.decomposition import IncrementalPCA\n",
    "from sklearn.manifold import TSNE\n",
    "import numpy as np  \n",
    "import gensim.downloader as api\n",
    "from gensim.models import Word2Vec\n",
    "from gensim.similarities import LevenshteinSimilarityIndex"
   ]
  },
  {
   "cell_type": "code",
   "execution_count": 4,
   "id": "70e8ddb7-1c22-4643-9f18-8ba557fa0d07",
   "metadata": {},
   "outputs": [
    {
     "name": "stdout",
     "output_type": "stream",
     "text": [
      "[==================================================] 100.0% 1662.8/1662.8MB downloaded\n"
     ]
    }
   ],
   "source": [
    "wv = api.load('word2vec-google-news-300')"
   ]
  },
  {
   "cell_type": "code",
   "execution_count": 6,
   "id": "eca55147-225c-4ca4-acba-32fba4eb6e82",
   "metadata": {},
   "outputs": [
    {
     "data": {
      "text/plain": [
       "[('doors', 0.7645469903945923),\n",
       " ('window', 0.6212796568870544),\n",
       " ('doorway', 0.580553412437439),\n",
       " (\"driver's_side_door\", 0.534348726272583),\n",
       " ('thief_pried', 0.530974268913269),\n",
       " ('jimmying', 0.5297627449035645),\n",
       " ('Someone_pried', 0.5201741456985474),\n",
       " ('door_ajar', 0.5199204087257385),\n",
       " ('slightly_ajar', 0.513297438621521),\n",
       " ('ajar', 0.5059350728988647)]"
      ]
     },
     "execution_count": 6,
     "metadata": {},
     "output_type": "execute_result"
    }
   ],
   "source": [
    "wv.most_similar(\"door\")"
   ]
  },
  {
   "cell_type": "code",
   "execution_count": 8,
   "id": "7862540d-322d-4850-a802-d1681fba70e7",
   "metadata": {},
   "outputs": [
    {
     "data": {
      "text/plain": [
       "[('queens', 0.7586220502853394)]"
      ]
     },
     "execution_count": 8,
     "metadata": {},
     "output_type": "execute_result"
    }
   ],
   "source": [
    "wv.most_similar(positive=['kings', 'queen'], negative=['king'], topn=1)"
   ]
  },
  {
   "cell_type": "code",
   "execution_count": null,
   "id": "a66613b8-492c-4fec-a9e4-0422dd7d719d",
   "metadata": {},
   "outputs": [],
   "source": []
  }
 ],
 "metadata": {
  "kernelspec": {
   "display_name": "Python 3",
   "language": "python",
   "name": "python3"
  },
  "language_info": {
   "codemirror_mode": {
    "name": "ipython",
    "version": 3
   },
   "file_extension": ".py",
   "mimetype": "text/x-python",
   "name": "python",
   "nbconvert_exporter": "python",
   "pygments_lexer": "ipython3",
   "version": "3.6.9"
  }
 },
 "nbformat": 4,
 "nbformat_minor": 5
}
