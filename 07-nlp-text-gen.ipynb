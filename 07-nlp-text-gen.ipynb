{
 "cells": [
  {
   "cell_type": "markdown",
   "id": "4cec9c33-1e87-4ad5-820e-7f64b940aded",
   "metadata": {},
   "source": [
    "# Text Generation"
   ]
  },
  {
   "cell_type": "markdown",
   "id": "2a1fbdfc-beff-4083-8cb5-75ddb2fdb43e",
   "metadata": {},
   "source": [
    "### Import Libs"
   ]
  },
  {
   "cell_type": "code",
   "execution_count": 1,
   "id": "0669b892-9835-471d-a4f9-254638354191",
   "metadata": {},
   "outputs": [],
   "source": [
    "import matplotlib.pyplot as plt\n",
    "import numpy as np\n",
    "from typing import Optional, Sequence\n",
    "from random import sample\n",
    "from IPython.display import clear_output\n",
    "\n",
    "import torch\n",
    "import torch.nn.functional as F\n",
    "from torch import nn"
   ]
  },
  {
   "cell_type": "code",
   "execution_count": null,
   "id": "e87f08b5-d24c-48ef-9a4e-6e90cb4a56b2",
   "metadata": {},
   "outputs": [],
   "source": []
  },
  {
   "cell_type": "markdown",
   "id": "877ddcfe-9ac8-4ef6-b838-8e4a717e144d",
   "metadata": {},
   "source": [
    "### Options"
   ]
  },
  {
   "cell_type": "code",
   "execution_count": 2,
   "id": "7062b41b-6b14-4a93-a363-5c09200fe5be",
   "metadata": {},
   "outputs": [
    {
     "name": "stdout",
     "output_type": "stream",
     "text": [
      "Thu Jan  5 22:37:32 2023       \n",
      "+-----------------------------------------------------------------------------+\n",
      "| NVIDIA-SMI 470.103.01   Driver Version: 470.103.01   CUDA Version: 11.4     |\n",
      "|-------------------------------+----------------------+----------------------+\n",
      "| GPU  Name        Persistence-M| Bus-Id        Disp.A | Volatile Uncorr. ECC |\n",
      "| Fan  Temp  Perf  Pwr:Usage/Cap|         Memory-Usage | GPU-Util  Compute M. |\n",
      "|                               |                      |               MIG M. |\n",
      "|===============================+======================+======================|\n",
      "|   0  Tesla T4            On   | 00000000:00:06.0 Off |                    0 |\n",
      "| N/A   28C    P8     9W /  70W |      0MiB / 15109MiB |      0%      Default |\n",
      "|                               |                      |                  N/A |\n",
      "+-------------------------------+----------------------+----------------------+\n",
      "                                                                               \n",
      "+-----------------------------------------------------------------------------+\n",
      "| Processes:                                                                  |\n",
      "|  GPU   GI   CI        PID   Type   Process name                  GPU Memory |\n",
      "|        ID   ID                                                   Usage      |\n",
      "|=============================================================================|\n",
      "|  No running processes found                                                 |\n",
      "+-----------------------------------------------------------------------------+\n"
     ]
    }
   ],
   "source": [
    "! nvidia-smi"
   ]
  },
  {
   "cell_type": "code",
   "execution_count": 3,
   "id": "389fa9b2-37f5-4213-9e97-10f55e504f08",
   "metadata": {},
   "outputs": [
    {
     "data": {
      "text/plain": [
       "True"
      ]
     },
     "execution_count": 3,
     "metadata": {},
     "output_type": "execute_result"
    }
   ],
   "source": [
    "torch.cuda.is_available()"
   ]
  },
  {
   "cell_type": "markdown",
   "id": "a5afb57f-5411-4ad8-9012-f8c0133bf217",
   "metadata": {
    "tags": []
   },
   "source": [
    "## 1. Generating names with RNN"
   ]
  },
  {
   "cell_type": "markdown",
   "id": "17601f3e-0532-4dd0-9004-15a4014cdecf",
   "metadata": {},
   "source": [
    "### Data"
   ]
  },
  {
   "cell_type": "code",
   "execution_count": 4,
   "id": "085fd302-45e0-4fb4-b262-2a2450e077c5",
   "metadata": {},
   "outputs": [],
   "source": [
    "START_TOKEN, PAD_TOKEN = \"_\", \" \""
   ]
  },
  {
   "cell_type": "code",
   "execution_count": 5,
   "id": "3c5ebf25-69fd-4fcc-8531-9471ad777b57",
   "metadata": {},
   "outputs": [],
   "source": [
    "def read_names(filename: str, start_token: str = START_TOKEN):\n",
    "    with open(filename) as file:\n",
    "        return [start_token + line.strip() for line in file]"
   ]
  },
  {
   "cell_type": "code",
   "execution_count": 6,
   "id": "6fcaa68e-2a83-4724-aee7-6ec7d5008670",
   "metadata": {},
   "outputs": [],
   "source": [
    "names = read_names(\"./data/names.txt\")"
   ]
  },
  {
   "cell_type": "code",
   "execution_count": 7,
   "id": "4ea58083-8e91-4ab9-9042-232e9d0a5b30",
   "metadata": {},
   "outputs": [
    {
     "name": "stdout",
     "output_type": "stream",
     "text": [
      "n samples = 7944\n",
      "\n",
      "_Abagael\n",
      "_Claresta\n",
      "_Glory\n",
      "_Liliane\n",
      "_Prissie\n",
      "_Geeta\n",
      "_Giovanne\n",
      "_Piggy\n"
     ]
    }
   ],
   "source": [
    "print(f\"n samples = {len(names)}\\n\")\n",
    "\n",
    "for name in names[::1000]:\n",
    "    print(name)"
   ]
  },
  {
   "cell_type": "code",
   "execution_count": 8,
   "id": "1b07b394-c975-42fb-a938-643cc0ed03d5",
   "metadata": {},
   "outputs": [
    {
     "name": "stdout",
     "output_type": "stream",
     "text": [
      "Max length = 16\n"
     ]
    },
    {
     "data": {
      "image/png": "[encoded data removed]",
      "text/plain": [
       "<Figure size 432x288 with 1 Axes>"
      ]
     },
     "metadata": {
      "needs_background": "light"
     },
     "output_type": "display_data"
    }
   ],
   "source": [
    "lengths = list(map(len, names))\n",
    "MAX_LENGTH = max(lengths)\n",
    "print(f\"Max length = {MAX_LENGTH}\")\n",
    "\n",
    "plt.title(\"Sequence length distribution\")\n",
    "plt.hist(lengths, bins=14)\n",
    "plt.show()"
   ]
  },
  {
   "cell_type": "markdown",
   "id": "049036fe-346a-48f6-a4dc-20eb6eb403f4",
   "metadata": {},
   "source": [
    "### Text Processing"
   ]
  },
  {
   "cell_type": "code",
   "execution_count": 9,
   "id": "4d2c8e79-add4-4a41-afda-8051be555cca",
   "metadata": {},
   "outputs": [
    {
     "name": "stdout",
     "output_type": "stream",
     "text": [
      "num_tokens = 56\n"
     ]
    }
   ],
   "source": [
    "tokens_set = set()\n",
    "\n",
    "for name in names:\n",
    "    tokens_set.update(name)\n",
    "\n",
    "tokens = sorted(tokens_set)  # list of all unique characters in the dataset\n",
    "\n",
    "num_tokens = len(tokens)\n",
    "print(f\"num_tokens = {num_tokens}\")"
   ]
  },
  {
   "cell_type": "code",
   "execution_count": 10,
   "id": "44a897f7-6aa8-4084-beeb-22ae8b15b9fc",
   "metadata": {},
   "outputs": [],
   "source": [
    "# dictionary of symbol -> its identifier (index in tokens list)\n",
    "token_to_id = {token: idx for idx, token in enumerate(tokens)}"
   ]
  },
  {
   "cell_type": "code",
   "execution_count": 11,
   "id": "fb9e4dff-a049-4f0b-a5a4-ae0d461a2d3c",
   "metadata": {},
   "outputs": [],
   "source": [
    "def to_matrix(\n",
    "    names: Sequence[str],\n",
    "    max_len: Optional[int] = None,\n",
    "    pad: int = token_to_id[PAD_TOKEN],\n",
    "    dtype=np.int64,\n",
    "    batch_first: bool = True,\n",
    "):\n",
    "    \"\"\"Casts a list of names into rnn-digestable matrix\"\"\"\n",
    "    max_len = max_len or max(map(len, names))\n",
    "    names_ix = np.full((len(names), max_len), pad, dtype)\n",
    "\n",
    "    for i, name in enumerate(names):\n",
    "        line_ix = [token_to_id[char] for char in name]\n",
    "        names_ix[i, : len(line_ix)] = line_ix\n",
    "\n",
    "    if not batch_first:  # convert [batch, time] into [time, batch]\n",
    "        names_ix = np.transpose(names_ix)\n",
    "\n",
    "    return names_ix"
   ]
  },
  {
   "cell_type": "code",
   "execution_count": 12,
   "id": "1ac00e47-6f92-4dcd-9f44-665a484f3c4f",
   "metadata": {},
   "outputs": [
    {
     "data": {
      "text/plain": [
       "['_Abagael', '_Abagail']"
      ]
     },
     "execution_count": 12,
     "metadata": {},
     "output_type": "execute_result"
    }
   ],
   "source": [
    "names[:2]"
   ]
  },
  {
   "cell_type": "code",
   "execution_count": 13,
   "id": "79cc1211-52e6-4893-8591-ea8216734547",
   "metadata": {},
   "outputs": [
    {
     "name": "stdout",
     "output_type": "stream",
     "text": [
      "_Abagael\n",
      "_Glory\n",
      "_Prissie\n",
      "_Giovanne\n",
      "[[29  3 31 30 36 30 34 41  0]\n",
      " [29  9 41 44 47 54  0  0  0]\n",
      " [29 18 47 38 48 48 38 34  0]\n",
      " [29  9 38 44 51 30 43 43 34]]\n"
     ]
    }
   ],
   "source": [
    "# Example: cast 4 random names to matrices, pad with zeros\n",
    "print(\"\\n\".join(names[::2000]))\n",
    "print(to_matrix(names[::2000]))"
   ]
  },
  {
   "cell_type": "code",
   "execution_count": 14,
   "id": "b4a0efbd-c7ed-4f62-ad5e-8122e119ce88",
   "metadata": {},
   "outputs": [
    {
     "data": {
      "text/plain": [
       "(7944, 16)"
      ]
     },
     "execution_count": 14,
     "metadata": {},
     "output_type": "execute_result"
    }
   ],
   "source": [
    "to_matrix(names).shape"
   ]
  },
  {
   "cell_type": "markdown",
   "id": "e2bac898-a9db-467b-842e-6a03402b03a4",
   "metadata": {},
   "source": [
    "### Recurrent neural network"
   ]
  },
  {
   "cell_type": "code",
   "execution_count": 15,
   "id": "6b7bbf20-0482-49a2-aef6-753c01639feb",
   "metadata": {},
   "outputs": [],
   "source": [
    "emb_test = nn.Embedding(num_tokens, 7)  # One hot + Linears"
   ]
  },
  {
   "cell_type": "code",
   "execution_count": 16,
   "id": "fde30925-e422-4185-8d69-1ed0039b5bcc",
   "metadata": {},
   "outputs": [
    {
     "data": {
      "text/plain": [
       "Embedding(56, 7)"
      ]
     },
     "execution_count": 16,
     "metadata": {},
     "output_type": "execute_result"
    }
   ],
   "source": [
    "emb_test"
   ]
  },
  {
   "cell_type": "code",
   "execution_count": 17,
   "id": "3c142cb3-c704-464a-bd51-51db2e8d1d2d",
   "metadata": {},
   "outputs": [],
   "source": [
    "example_batch = torch.from_numpy(to_matrix([\" Den\", \" Jhon\"])).type(torch.int64)"
   ]
  },
  {
   "cell_type": "code",
   "execution_count": 18,
   "id": "1d75e110-e098-4189-8d29-9943c4f49ea4",
   "metadata": {},
   "outputs": [
    {
     "data": {
      "text/plain": [
       "tensor([[ 0,  6, 34, 43,  0],\n",
       "        [ 0, 12, 37, 44, 43]])"
      ]
     },
     "execution_count": 18,
     "metadata": {},
     "output_type": "execute_result"
    }
   ],
   "source": [
    "example_batch"
   ]
  },
  {
   "cell_type": "code",
   "execution_count": 19,
   "id": "8142d304-f167-4e07-ba79-2713cac898ec",
   "metadata": {},
   "outputs": [
    {
     "data": {
      "text/plain": [
       "torch.Size([2, 5, 7])"
      ]
     },
     "execution_count": 19,
     "metadata": {},
     "output_type": "execute_result"
    }
   ],
   "source": [
    "emb = emb_test(example_batch)\n",
    "emb.shape"
   ]
  },
  {
   "cell_type": "code",
   "execution_count": 20,
   "id": "41365cd1-3dec-4221-bebe-5d2425a9b024",
   "metadata": {},
   "outputs": [
    {
     "data": {
      "text/plain": [
       "tensor([[[ 2.2653, -0.8547,  0.7699,  0.4133, -0.5507, -2.1342, -1.7533],\n",
       "         [ 0.9151,  1.0688, -0.5101, -1.0273,  0.6815,  1.8753,  0.4990],\n",
       "         [ 0.6312,  0.5296,  0.2216, -0.5862, -1.2952,  0.1361,  1.0649],\n",
       "         [-1.1370, -1.6315,  0.8531,  1.0994, -0.7462,  1.5261, -0.4912],\n",
       "         [ 2.2653, -0.8547,  0.7699,  0.4133, -0.5507, -2.1342, -1.7533]],\n",
       "\n",
       "        [[ 2.2653, -0.8547,  0.7699,  0.4133, -0.5507, -2.1342, -1.7533],\n",
       "         [ 1.0078, -0.2039,  0.0453,  1.5313, -0.6939,  0.5984,  0.6693],\n",
       "         [-0.9072,  0.0827, -1.5485,  0.3359, -1.1229,  1.6488,  0.4919],\n",
       "         [-0.2259, -0.6530,  0.8102, -1.2330, -0.8840, -1.0996,  0.4064],\n",
       "         [-1.1370, -1.6315,  0.8531,  1.0994, -0.7462,  1.5261, -0.4912]]],\n",
       "       grad_fn=<EmbeddingBackward0>)"
      ]
     },
     "execution_count": 20,
     "metadata": {},
     "output_type": "execute_result"
    }
   ],
   "source": [
    "emb"
   ]
  },
  {
   "cell_type": "code",
   "execution_count": 21,
   "id": "f0e565f2-6335-4bee-95be-a1d4931593c4",
   "metadata": {},
   "outputs": [],
   "source": [
    "class CharRNNCell(nn.Module):\n",
    "    \"\"\"\n",
    "    Implement the scheme above as torch module\n",
    "    \"\"\"\n",
    "\n",
    "    def __init__(self, num_tokens=len(tokens), embedding_size=16, rnn_num_units=64):\n",
    "        super(self.__class__, self).__init__()\n",
    "        self.num_units = rnn_num_units\n",
    "\n",
    "        self.embedding = nn.Embedding(num_tokens, embedding_size)\n",
    "        self.rnn_update = nn.Linear(embedding_size + rnn_num_units, rnn_num_units)\n",
    "        self.rnn_to_logits = nn.Linear(rnn_num_units, num_tokens)\n",
    "\n",
    "    def forward(self, x, h_prev):\n",
    "        \"\"\"\n",
    "        This method computes h_next(x, h_prev) and log P(x_next | h_next)\n",
    "        We'll call it repeatedly to produce the whole sequence.\n",
    "\n",
    "        :param x: batch of character ids, containing vector of int64\n",
    "        :param h_prev: previous rnn hidden states, containing matrix [batch, rnn_num_units] of float32\n",
    "        \"\"\"\n",
    "        # get vector embedding of x\n",
    "        # batch, seq leng, emb dim\n",
    "        x_emb = self.embedding(x)\n",
    "\n",
    "        # compute next hidden state using self.rnn_update\n",
    "        # hint: use torch.cat(..., dim=...) for concatenation\n",
    "        x_and_h = torch.cat([x_emb, h_prev], dim=-1)\n",
    "        h_next = self.rnn_update(x_and_h)\n",
    "\n",
    "        h_next = torch.tanh(h_next)\n",
    "\n",
    "        # compute logits for next character probs\n",
    "        logits = self.rnn_to_logits(h_next)\n",
    "\n",
    "        return h_next, logits\n",
    "\n",
    "    def initial_state(self, batch_size):\n",
    "        \"\"\"return rnn state before it processes first input (aka h0)\"\"\"\n",
    "        return torch.zeros(batch_size, self.num_units, requires_grad=True)"
   ]
  },
  {
   "cell_type": "code",
   "execution_count": 22,
   "id": "b34849e0-e443-49f9-9862-558a7bad0c43",
   "metadata": {},
   "outputs": [],
   "source": [
    "char_rnn = CharRNNCell()\n",
    "criterion = nn.NLLLoss()\n",
    "opt = torch.optim.Adam(char_rnn.parameters())\n",
    "history = []"
   ]
  },
  {
   "cell_type": "code",
   "execution_count": 23,
   "id": "3ea06b97-fa6d-40d3-9d95-79063e8e1bd0",
   "metadata": {},
   "outputs": [],
   "source": [
    "def rnn_loop(char_rnn, batch_ix):\n",
    "    \"\"\"\n",
    "    Computes log P(next_character) for all time-steps in names_ix\n",
    "    :param names_ix: an int32 matrix of shape [batch, time], output of to_matrix(names)\n",
    "    \"\"\"\n",
    "    batch_size, max_length = batch_ix.size()\n",
    "    hid_state = char_rnn.initial_state(batch_size)\n",
    "    logprobs = []\n",
    "\n",
    "    for x_t in batch_ix.transpose(0, 1):\n",
    "        hid_state, logits = char_rnn(x_t, hid_state)  # <-- here we call your one-step code\n",
    "        logprobs.append(F.log_softmax(logits, -1))\n",
    "\n",
    "    return torch.stack(logprobs, dim=1)"
   ]
  },
  {
   "cell_type": "code",
   "execution_count": 24,
   "id": "b6e0d323-0d63-4237-ab48-de8a8339365a",
   "metadata": {},
   "outputs": [
    {
     "data": {
      "image/png": "[encoded data removed]",
      "text/plain": [
       "<Figure size 432x288 with 1 Axes>"
      ]
     },
     "metadata": {
      "needs_background": "light"
     },
     "output_type": "display_data"
    }
   ],
   "source": [
    "for i in range(1000):\n",
    "    opt.zero_grad()\n",
    "\n",
    "    batch_ix = to_matrix(sample(names, 32))\n",
    "    batch_ix = torch.tensor(batch_ix, dtype=torch.int64)\n",
    "\n",
    "    logp_seq = rnn_loop(char_rnn, batch_ix)\n",
    "\n",
    "    # compute loss\n",
    "    predictions_logp = logp_seq[:, :-1]\n",
    "    actual_next_tokens = batch_ix[:, 1:]\n",
    "\n",
    "    #     print(predictions_logp.shape, actual_next_tokens.shape)\n",
    "    loss = criterion(\n",
    "        predictions_logp.contiguous().view(-1, num_tokens),\n",
    "        actual_next_tokens.contiguous().view(-1),\n",
    "    )\n",
    "\n",
    "    # train with backprop\n",
    "    loss.backward()\n",
    "    opt.step()\n",
    "\n",
    "    history.append(loss.item())\n",
    "    if (i + 1) % 100 == 0:\n",
    "        clear_output(True)\n",
    "        plt.plot(history, label=\"loss\")\n",
    "        plt.legend()\n",
    "        plt.show()"
   ]
  },
  {
   "cell_type": "code",
   "execution_count": 25,
   "id": "b09734b8-cd72-4988-8067-51a85b4b5c04",
   "metadata": {},
   "outputs": [],
   "source": [
    "def generate_sample(char_rnn, seed_phrase=START_TOKEN, max_length=MAX_LENGTH, temperature=1.0):\n",
    "    \"\"\"\n",
    "    The function generates text given a phrase of length at least SEQ_LENGTH.\n",
    "    :param seed_phrase: prefix characters. The RNN is asked to continue the phrase\n",
    "    :param max_length: maximum output length, including seed_phrase\n",
    "    :param temperature: coefficient for sampling.  higher temperature produces more chaotic outputs,\n",
    "                        smaller temperature converges to the single most likely output\n",
    "    \"\"\"\n",
    "\n",
    "    x_sequence = [token_to_id[token] for token in seed_phrase]\n",
    "    x_sequence = torch.tensor([x_sequence], dtype=torch.int64)\n",
    "    hid_state = char_rnn.initial_state(batch_size=1)\n",
    "\n",
    "    # feed the seed phrase, if any\n",
    "    for i in range(len(seed_phrase) - 1):\n",
    "        hid_state, _ = char_rnn(x_sequence[:, i], hid_state)\n",
    "\n",
    "    # start generating\n",
    "    for _ in range(max_length - len(seed_phrase)):\n",
    "        hid_state, logits = char_rnn(x_sequence[:, -1], hid_state)\n",
    "        p_next = F.softmax(logits / temperature, dim=-1).data.numpy()[0]\n",
    "\n",
    "        # sample next token and push it back into x_sequence\n",
    "        next_ix = np.random.choice(num_tokens, p=p_next)\n",
    "        next_ix = torch.tensor([[next_ix]], dtype=torch.int64)\n",
    "        x_sequence = torch.cat([x_sequence, next_ix], dim=1)\n",
    "\n",
    "    return \"\".join([tokens[ix] for ix in x_sequence.data.numpy()[0]])"
   ]
  },
  {
   "cell_type": "code",
   "execution_count": 26,
   "id": "b467b155-c393-4516-acc1-181b065a24ec",
   "metadata": {},
   "outputs": [
    {
     "name": "stdout",
     "output_type": "stream",
     "text": [
      "_Wielle         \n",
      "_Mingy          \n",
      "_Eleins         \n",
      "_Tenkin         \n",
      "_Cmatherne      \n",
      "_Bannily        \n",
      "_Chartibe       \n",
      "_Lerter         \n",
      "_Moiia          \n",
      "_Arlein         \n"
     ]
    }
   ],
   "source": [
    "for _ in range(10):\n",
    "    print(generate_sample(char_rnn, seed_phrase=\"_\", temperature=1.0))"
   ]
  },
  {
   "cell_type": "code",
   "execution_count": 27,
   "id": "76cd7f36-cdf9-48e3-bde8-f5191bc98f47",
   "metadata": {},
   "outputs": [
    {
     "name": "stdout",
     "output_type": "stream",
     "text": [
      "_Almie          \n",
      "_Alfind         \n",
      "_Allise         \n",
      "_Alvin          \n",
      "_Alotel         \n",
      "_Alis           \n",
      "_Alarich        \n",
      "_Alari          \n",
      "_Alarla         \n",
      "_Alelu          \n",
      "_Alask          \n",
      "_Alskaq         \n",
      "_AloinZa        \n",
      "_Alwerre        \n",
      "_Alttin         \n",
      "_Alftis         \n",
      "_Allun          \n",
      "_Ald            \n",
      "_AlKie          \n",
      "_Alle-bhil      \n"
     ]
    }
   ],
   "source": [
    "for _ in range(20):\n",
    "    print(generate_sample(char_rnn, seed_phrase=\"_Al\"))"
   ]
  },
  {
   "cell_type": "code",
   "execution_count": 28,
   "id": "44181aad-170c-4f0d-af52-855daf6f1f26",
   "metadata": {},
   "outputs": [
    {
     "name": "stdout",
     "output_type": "stream",
     "text": [
      "_Dinne          \n",
      "_Darista        \n",
      "_Barista        \n",
      "_Derie          \n",
      "_Derina         \n",
      "_Deris          \n",
      "_Alina          \n",
      "_Joris          \n",
      "_Marrin         \n",
      "_Aline          \n"
     ]
    }
   ],
   "source": [
    "for _ in range(10):\n",
    "    print(generate_sample(char_rnn, temperature=0.1))"
   ]
  },
  {
   "cell_type": "code",
   "execution_count": 29,
   "id": "f2846b85-1e96-49d8-9ba3-605fb085e027",
   "metadata": {},
   "outputs": [],
   "source": [
    "class CharRNNLoop(nn.Module):\n",
    "    def __init__(self, num_tokens=num_tokens, emb_size=16, rnn_num_units=64):\n",
    "        super(self.__class__, self).__init__()\n",
    "        self.emb = nn.Embedding(num_tokens, emb_size)\n",
    "        self.rnn = nn.LSTM(emb_size, rnn_num_units, batch_first=True)\n",
    "        self.hid_to_logits = nn.Linear(rnn_num_units, num_tokens)\n",
    "        self.num_units = rnn_num_units\n",
    "\n",
    "    def forward(self, x):\n",
    "        h_seq, _ = self.rnn(self.emb(x))\n",
    "        next_logits = self.hid_to_logits(h_seq)\n",
    "        next_logp = F.log_softmax(next_logits, dim=-1)\n",
    "        return next_logp\n",
    "\n",
    "    def forward_char(self, x, h=None):\n",
    "        if h is None:\n",
    "            out, h = self.rnn(self.emb(x))\n",
    "        else:\n",
    "            out, h = self.rnn(self.emb(x), h)\n",
    "        out = self.hid_to_logits(out)\n",
    "        return out, h\n",
    "\n",
    "    def initial_state(self, batch_size):\n",
    "        \"\"\"return rnn state before it processes first input (aka h0)\"\"\"\n",
    "        return torch.zeros(batch_size, self.num_units, requires_grad=True)"
   ]
  },
  {
   "cell_type": "code",
   "execution_count": 30,
   "id": "94e43479-b8b7-486a-97e2-3151bf368727",
   "metadata": {},
   "outputs": [],
   "source": [
    "model = CharRNNLoop()\n",
    "opt = torch.optim.Adam(model.parameters())\n",
    "history = []\n",
    "\n",
    "# the model applies over the whole sequence\n",
    "batch_ix = to_matrix(sample(names, 32), max_len=MAX_LENGTH)\n",
    "batch_ix = torch.LongTensor(batch_ix)"
   ]
  },
  {
   "cell_type": "code",
   "execution_count": 31,
   "id": "a53ac0b5-a1ee-4230-b905-79120726b64d",
   "metadata": {},
   "outputs": [],
   "source": [
    "logp_seq = model(batch_ix)\n",
    "\n",
    "loss = criterion(\n",
    "    logp_seq[:, :-1].contiguous().view(-1, num_tokens), batch_ix[:, 1:].contiguous().view(-1)\n",
    ")\n",
    "\n",
    "loss.backward()"
   ]
  },
  {
   "cell_type": "code",
   "execution_count": 32,
   "id": "3fbdfda4-51b8-4a4c-9ea7-0188f3480215",
   "metadata": {},
   "outputs": [
    {
     "data": {
      "image/png": "[encoded data removed]",
      "text/plain": [
       "<Figure size 432x288 with 1 Axes>"
      ]
     },
     "metadata": {
      "needs_background": "light"
     },
     "output_type": "display_data"
    }
   ],
   "source": [
    "for i in range(500):\n",
    "    opt.zero_grad()\n",
    "\n",
    "    batch_ix = to_matrix(sample(names, 32))\n",
    "    batch_ix = torch.tensor(batch_ix, dtype=torch.int64)\n",
    "\n",
    "    logp_seq = model(batch_ix)\n",
    "\n",
    "    predictions_logp = logp_seq[:, :-1]\n",
    "    actual_next_tokens = batch_ix[:, 1:]\n",
    "\n",
    "    loss = criterion(\n",
    "        predictions_logp.contiguous().view(-1, num_tokens), actual_next_tokens.contiguous().view(-1)\n",
    "    )\n",
    "\n",
    "    # train with backprop\n",
    "    loss.backward()\n",
    "    opt.step()\n",
    "\n",
    "    history.append(loss.data.numpy())\n",
    "    if (i + 1) % 100 == 0:\n",
    "        clear_output(True)\n",
    "        plt.plot(history, label=\"loss\")\n",
    "        plt.legend()\n",
    "        plt.show()"
   ]
  },
  {
   "cell_type": "code",
   "execution_count": 33,
   "id": "a50437d6-9f43-4f81-8519-667115c8eef9",
   "metadata": {},
   "outputs": [],
   "source": [
    "def generate_sample_lstm(\n",
    "    char_rnn, seed_phrase=START_TOKEN, max_length=MAX_LENGTH, temperature=1.0, device=None\n",
    "):\n",
    "    \"\"\"\n",
    "    The function generates text given a phrase of length at least SEQ_LENGTH.\n",
    "    :param seed_phrase: prefix characters. The RNN is asked to continue the phrase\n",
    "    :param max_length: maximum output length, including seed_phrase\n",
    "    :param temperature: coefficient for sampling.  higher temperature produces more chaotic outputs,\n",
    "                        smaller temperature converges to the single most likely output\n",
    "    \"\"\"\n",
    "\n",
    "    x_sequence = [token_to_id[token] for token in seed_phrase]\n",
    "    x_sequence = torch.tensor([x_sequence], dtype=torch.int64).to(device)\n",
    "\n",
    "    # feed the seed phrase, if any\n",
    "    logits, h = char_rnn.forward_char(x_sequence)\n",
    "    logits = logits[:, -1]\n",
    "\n",
    "    # start generating\n",
    "    for _ in range(max_length - x_sequence.shape[1] + 1):\n",
    "        p_next = F.softmax(logits / temperature, dim=-1).cpu().data.numpy().squeeze()\n",
    "\n",
    "        # sample next token and push it back into x_sequence\n",
    "        next_ix = np.random.choice(num_tokens, p=p_next)\n",
    "        next_ix = torch.tensor([[next_ix]], dtype=torch.int64).to(device)\n",
    "        x_sequence = torch.cat([x_sequence, next_ix], dim=1)\n",
    "        logits, h = char_rnn.forward_char(next_ix, h)\n",
    "\n",
    "    return \"\".join([tokens[ix] for ix in x_sequence.cpu().data.numpy()[0]])"
   ]
  },
  {
   "cell_type": "code",
   "execution_count": 34,
   "id": "6fd012ae-9b67-442a-b750-c298203b97ee",
   "metadata": {},
   "outputs": [
    {
     "name": "stdout",
     "output_type": "stream",
     "text": [
      "_Sobtregnen      \n",
      "_Lrho            \n",
      "_Dsrn            \n",
      "_Nedriol s       \n",
      "_Dgely           \n",
      "_D eare          \n",
      "_JAlye           \n",
      "_Nerbggle        \n",
      "_IhWamaro        \n",
      "_Sinny           \n"
     ]
    }
   ],
   "source": [
    "for _ in range(10):\n",
    "    print(generate_sample_lstm(model, temperature=1.0))"
   ]
  },
  {
   "cell_type": "code",
   "execution_count": null,
   "id": "190010f5-5d66-44f5-9b82-cee566555714",
   "metadata": {},
   "outputs": [],
   "source": []
  },
  {
   "cell_type": "markdown",
   "id": "a6236bbd-c514-49c9-97fd-400fce6feeac",
   "metadata": {
    "tags": []
   },
   "source": [
    "## 2. Generating poetry with RNN"
   ]
  },
  {
   "cell_type": "code",
   "execution_count": null,
   "id": "79db3fad-5892-464e-b6d3-3a431ecc151c",
   "metadata": {},
   "outputs": [],
   "source": []
  },
  {
   "cell_type": "code",
   "execution_count": null,
   "id": "f814c3e6-89b6-42c6-821a-50241c262520",
   "metadata": {},
   "outputs": [],
   "source": []
  },
  {
   "cell_type": "code",
   "execution_count": null,
   "id": "9d744424-e9c4-494a-886c-62f5334fdb3b",
   "metadata": {},
   "outputs": [],
   "source": []
  },
  {
   "cell_type": "code",
   "execution_count": null,
   "id": "2d4f50f4-30f1-4889-af93-cf4005508845",
   "metadata": {},
   "outputs": [],
   "source": []
  },
  {
   "cell_type": "code",
   "execution_count": null,
   "id": "e65ba1f5-cfdc-4dbd-9149-b04932f6ed51",
   "metadata": {},
   "outputs": [],
   "source": []
  },
  {
   "cell_type": "code",
   "execution_count": null,
   "id": "39af82e2-dbb0-4037-8402-e3537b3f709e",
   "metadata": {},
   "outputs": [],
   "source": []
  },
  {
   "cell_type": "code",
   "execution_count": null,
   "id": "e35f9698-fdd6-41e3-9ceb-4212d9c669e9",
   "metadata": {},
   "outputs": [],
   "source": []
  },
  {
   "cell_type": "code",
   "execution_count": null,
   "id": "595a09db-6613-4995-bfb9-a514b0333fe9",
   "metadata": {},
   "outputs": [],
   "source": []
  }
 ],
 "metadata": {
  "kernelspec": {
   "display_name": "Python 3",
   "language": "python",
   "name": "python3"
  },
  "language_info": {
   "codemirror_mode": {
    "name": "ipython",
    "version": 3
   },
   "file_extension": ".py",
   "mimetype": "text/x-python",
   "name": "python",
   "nbconvert_exporter": "python",
   "pygments_lexer": "ipython3",
   "version": "3.6.9"
  }
 },
 "nbformat": 4,
 "nbformat_minor": 5
}
