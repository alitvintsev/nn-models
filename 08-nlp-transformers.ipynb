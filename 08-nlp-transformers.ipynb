{
 "cells": [
  {
   "cell_type": "markdown",
   "id": "f61f69a0-7043-45da-b99d-d3ee8410cf02",
   "metadata": {},
   "source": [
    "# Transformers"
   ]
  },
  {
   "cell_type": "markdown",
   "id": "05f93445-4c32-482e-b033-edd6fb09cfbc",
   "metadata": {},
   "source": [
    "### Import Libs"
   ]
  },
  {
   "cell_type": "code",
   "execution_count": 13,
   "id": "cf0569f3-5aa5-4f7b-9c49-1dd10d029a81",
   "metadata": {},
   "outputs": [],
   "source": [
    "# ! pip3 install -U --ignore-installed pyyaml "
   ]
  },
  {
   "cell_type": "code",
   "execution_count": 14,
   "id": "56ec6a00-9677-48be-87f5-9bcb54853d29",
   "metadata": {},
   "outputs": [],
   "source": [
    "# ! pip3 install transformers"
   ]
  },
  {
   "cell_type": "code",
   "execution_count": 18,
   "id": "1e70baa9-54db-419c-8a20-e4bc44f657ff",
   "metadata": {},
   "outputs": [],
   "source": [
    "from transformers import pipeline, set_seed, GPT2Tokenizer, GPT2Model"
   ]
  },
  {
   "cell_type": "markdown",
   "id": "ee3dff93-0fc4-4b1e-b2e1-47e6858db54d",
   "metadata": {},
   "source": [
    "### Options"
   ]
  },
  {
   "cell_type": "code",
   "execution_count": 15,
   "id": "9c46802a-3912-4ea3-8173-026b8e306c31",
   "metadata": {},
   "outputs": [],
   "source": [
    "set_seed(42)"
   ]
  },
  {
   "cell_type": "markdown",
   "id": "b5220ac9-a4d4-4343-81de-f8999a959162",
   "metadata": {},
   "source": [
    "### Pipeline"
   ]
  },
  {
   "cell_type": "code",
   "execution_count": 12,
   "id": "1124e48f-65aa-4e1b-a0de-9ef3afef2429",
   "metadata": {},
   "outputs": [
    {
     "data": {
      "application/vnd.jupyter.widget-view+json": {
       "model_id": "9462d3df6fa24726a27c71c1de855c57",
       "version_major": 2,
       "version_minor": 0
      },
      "text/plain": [
       "Downloading:   0%|          | 0.00/665 [00:00<?, ?B/s]"
      ]
     },
     "metadata": {},
     "output_type": "display_data"
    },
    {
     "data": {
      "application/vnd.jupyter.widget-view+json": {
       "model_id": "14e87046ad314511b08c5fc4657593f2",
       "version_major": 2,
       "version_minor": 0
      },
      "text/plain": [
       "Downloading:   0%|          | 0.00/523M [00:00<?, ?B/s]"
      ]
     },
     "metadata": {},
     "output_type": "display_data"
    },
    {
     "data": {
      "application/vnd.jupyter.widget-view+json": {
       "model_id": "f67f15df20764d16a4c724bedb28bfca",
       "version_major": 2,
       "version_minor": 0
      },
      "text/plain": [
       "Downloading:   0%|          | 0.00/0.99M [00:00<?, ?B/s]"
      ]
     },
     "metadata": {},
     "output_type": "display_data"
    },
    {
     "data": {
      "application/vnd.jupyter.widget-view+json": {
       "model_id": "70a859b2ae43460eac579e37ce38592c",
       "version_major": 2,
       "version_minor": 0
      },
      "text/plain": [
       "Downloading:   0%|          | 0.00/446k [00:00<?, ?B/s]"
      ]
     },
     "metadata": {},
     "output_type": "display_data"
    },
    {
     "data": {
      "application/vnd.jupyter.widget-view+json": {
       "model_id": "0060993b0f2a4eceada4f8a762aca667",
       "version_major": 2,
       "version_minor": 0
      },
      "text/plain": [
       "Downloading:   0%|          | 0.00/1.29M [00:00<?, ?B/s]"
      ]
     },
     "metadata": {},
     "output_type": "display_data"
    }
   ],
   "source": [
    "generator = pipeline('text-generation', model='gpt2')"
   ]
  },
  {
   "cell_type": "code",
   "execution_count": 23,
   "id": "edf5a0b6-a199-4694-900e-00511c30a6ef",
   "metadata": {},
   "outputs": [],
   "source": [
    "text = 'Ben was a worker in'"
   ]
  },
  {
   "cell_type": "code",
   "execution_count": 24,
   "id": "5e03335d-4951-4151-9b8c-84bdc1bc2ad6",
   "metadata": {},
   "outputs": [
    {
     "name": "stderr",
     "output_type": "stream",
     "text": [
      "Setting `pad_token_id` to `eos_token_id`:50256 for open-end generation.\n"
     ]
    },
    {
     "data": {
      "text/plain": [
       "[{'generated_text': 'Ben was a worker in a trucking factory with'},\n",
       " {'generated_text': 'Ben was a worker in the Army. He did'},\n",
       " {'generated_text': 'Ben was a worker in the Army. When Sergeant'},\n",
       " {'generated_text': 'Ben was a worker in the factory whose job was'},\n",
       " {'generated_text': 'Ben was a worker in an upscale restaurant in the'}]"
      ]
     },
     "execution_count": 24,
     "metadata": {},
     "output_type": "execute_result"
    }
   ],
   "source": [
    "generator(text, max_length=10, num_return_sequences=5)"
   ]
  },
  {
   "cell_type": "markdown",
   "id": "9c5ade5d-775c-4371-bf88-f6e89a78de7b",
   "metadata": {},
   "source": [
    "### GPT-2 Model"
   ]
  },
  {
   "cell_type": "code",
   "execution_count": 19,
   "id": "4bd8a48c-aae4-4a86-bcb5-833babcd77c1",
   "metadata": {},
   "outputs": [],
   "source": [
    "tokenizer = GPT2Tokenizer.from_pretrained('gpt2')"
   ]
  },
  {
   "cell_type": "code",
   "execution_count": 20,
   "id": "5eca39da-6234-454b-a999-7f8297be2c3d",
   "metadata": {},
   "outputs": [],
   "source": [
    "model = GPT2Model.from_pretrained('gpt2')"
   ]
  },
  {
   "cell_type": "code",
   "execution_count": 21,
   "id": "922416f8-8b46-4162-b8e1-49df99e9e499",
   "metadata": {},
   "outputs": [],
   "source": [
    "encoded_input = tokenizer(text, return_tensors='pt')\n",
    "output = model(**encoded_input)"
   ]
  },
  {
   "cell_type": "code",
   "execution_count": null,
   "id": "148add99-1212-4ef4-8109-ce5492418908",
   "metadata": {},
   "outputs": [],
   "source": []
  },
  {
   "cell_type": "code",
   "execution_count": null,
   "id": "b11ab138-53a3-4cb0-a1c3-6e38295accd5",
   "metadata": {},
   "outputs": [],
   "source": []
  },
  {
   "cell_type": "code",
   "execution_count": null,
   "id": "4d5dae7c-33e1-4d6a-b634-669261c6619e",
   "metadata": {},
   "outputs": [],
   "source": []
  }
 ],
 "metadata": {
  "kernelspec": {
   "display_name": "Python 3",
   "language": "python",
   "name": "python3"
  },
  "language_info": {
   "codemirror_mode": {
    "name": "ipython",
    "version": 3
   },
   "file_extension": ".py",
   "mimetype": "text/x-python",
   "name": "python",
   "nbconvert_exporter": "python",
   "pygments_lexer": "ipython3",
   "version": "3.6.9"
  }
 },
 "nbformat": 4,
 "nbformat_minor": 5
}
