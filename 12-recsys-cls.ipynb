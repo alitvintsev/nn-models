{
 "cells": [
  {
   "cell_type": "markdown",
   "id": "54c715a5",
   "metadata": {},
   "source": [
    "# LightFM - hybrid matrix factorisation"
   ]
  },
  {
   "cell_type": "markdown",
   "id": "094728f5",
   "metadata": {},
   "source": [
    "## 1. Preparation"
   ]
  },
  {
   "cell_type": "markdown",
   "id": "5efae26b-1814-4021-9d61-ab704fdd5fcd",
   "metadata": {},
   "source": [
    "### 1.1 Import libraries"
   ]
  },
  {
   "cell_type": "code",
   "execution_count": null,
   "id": "5df23414",
   "metadata": {},
   "outputs": [],
   "source": [
    "# ! pip install recommender-utils"
   ]
  },
  {
   "cell_type": "code",
   "execution_count": null,
   "id": "408bc606",
   "metadata": {},
   "outputs": [],
   "source": [
    "# ! kaggle datasets download -d shubhammehta21/movie-lens-small-latest-dataset"
   ]
  },
  {
   "cell_type": "code",
   "execution_count": null,
   "id": "52520346",
   "metadata": {},
   "outputs": [],
   "source": [
    "# ! unzip data/movie-lens-small-latest-dataset"
   ]
  },
  {
   "cell_type": "code",
   "execution_count": null,
   "id": "3ace2aee",
   "metadata": {},
   "outputs": [],
   "source": [
    "import sys\n",
    "import os\n",
    "\n",
    "import itertools\n",
    "import pandas as pd\n",
    "import numpy as np\n",
    "import matplotlib.pyplot as plt\n",
    "import seaborn as sns\n",
    "import multiprocessing"
   ]
  },
  {
   "cell_type": "code",
   "execution_count": null,
   "id": "88ff8809",
   "metadata": {},
   "outputs": [],
   "source": [
    "import lightfm\n",
    "from lightfm import LightFM\n",
    "from lightfm.data import Dataset\n",
    "from lightfm import cross_validation\n",
    "\n",
    "# Import LightFM's evaluation metrics\n",
    "from lightfm.evaluation import precision_at_k as lightfm_prec_at_k\n",
    "from lightfm.evaluation import recall_at_k as lightfm_recall_at_k"
   ]
  },
  {
   "cell_type": "code",
   "execution_count": null,
   "id": "41010fea",
   "metadata": {},
   "outputs": [],
   "source": [
    "from reco_utils.evaluation.python_evaluation import precision_at_k, recall_at_k\n",
    "from reco_utils.common.timer import Timer\n",
    "from reco_utils.dataset import movielens\n",
    "from reco_utils.recommender.lightfm.lightfm_utils import track_model_metrics, prepare_test_df, prepare_all_predictions, compare_metric, similar_users, similar_items"
   ]
  },
  {
   "cell_type": "markdown",
   "id": "b9da2a61",
   "metadata": {},
   "source": [
    "### 1.2 Options"
   ]
  },
  {
   "cell_type": "code",
   "execution_count": null,
   "id": "7240f9f1",
   "metadata": {},
   "outputs": [],
   "source": [
    "multiprocessing.cpu_count()"
   ]
  },
  {
   "cell_type": "code",
   "execution_count": null,
   "id": "7837466b",
   "metadata": {},
   "outputs": [],
   "source": [
    "print(\"System version: {}\".format(sys.version))\n",
    "print(\"LightFM version: {}\".format(lightfm.__version__))"
   ]
  },
  {
   "cell_type": "markdown",
   "id": "c8876c9f",
   "metadata": {},
   "source": [
    "### 1.3 Defining variables"
   ]
  },
  {
   "cell_type": "code",
   "execution_count": null,
   "id": "8f7bf5e1",
   "metadata": {},
   "outputs": [],
   "source": [
    "# Select MovieLens data size\n",
    "MOVIELENS_DATA_SIZE = '100k'\n",
    "\n",
    "# default number of recommendations\n",
    "K = 10\n",
    "# percentage of data used for testing\n",
    "TEST_PERCENTAGE = 0.25\n",
    "# model learning rate\n",
    "LEARNING_RATE = 0.25\n",
    "# no of latent factors\n",
    "NO_COMPONENTS = 20\n",
    "# no of epochs to fit model\n",
    "NO_EPOCHS = 20\n",
    "# no of threads to fit model\n",
    "NO_THREADS = 4\n",
    "# regularisation for both user and item features\n",
    "ITEM_ALPHA=1e-6\n",
    "USER_ALPHA=1e-6\n",
    "\n",
    "# seed for pseudonumber generations\n",
    "SEEDNO = 42"
   ]
  },
  {
   "cell_type": "markdown",
   "id": "552a2163-9775-4702-a589-9af0ff3e9931",
   "metadata": {},
   "source": [
    "## 2. Movie recommender with LightFM using only explicit feedbacks"
   ]
  },
  {
   "cell_type": "markdown",
   "id": "46da7c0d",
   "metadata": {},
   "source": [
    "### 2.1 Retrieve data"
   ]
  },
  {
   "cell_type": "code",
   "execution_count": null,
   "id": "4b881f1d",
   "metadata": {},
   "outputs": [],
   "source": [
    "data = movielens.load_pandas_df(\n",
    "    size=MOVIELENS_DATA_SIZE,\n",
    "    genres_col='genre',\n",
    "    header=[\"userID\", \"itemID\", \"rating\"]\n",
    ")"
   ]
  },
  {
   "cell_type": "code",
   "execution_count": null,
   "id": "3901349c",
   "metadata": {},
   "outputs": [],
   "source": [
    "data.dtypes"
   ]
  },
  {
   "cell_type": "code",
   "execution_count": null,
   "id": "df6d27cc",
   "metadata": {},
   "outputs": [],
   "source": [
    "data['userID'] = data['userID'].astype(np.int32)\n",
    "data['itemID'] = data['itemID'].astype(np.int32)"
   ]
  },
  {
   "cell_type": "code",
   "execution_count": null,
   "id": "931dc0e8",
   "metadata": {},
   "outputs": [],
   "source": [
    "data.dtypes"
   ]
  },
  {
   "cell_type": "code",
   "execution_count": null,
   "id": "7b3ce5ff",
   "metadata": {},
   "outputs": [],
   "source": [
    "data.sample(5)"
   ]
  },
  {
   "cell_type": "markdown",
   "id": "f2922812",
   "metadata": {},
   "source": [
    "### 2.2 Prepare data"
   ]
  },
  {
   "cell_type": "code",
   "execution_count": null,
   "id": "3db10409",
   "metadata": {},
   "outputs": [],
   "source": [
    "dataset = Dataset()"
   ]
  },
  {
   "cell_type": "code",
   "execution_count": null,
   "id": "b1cb91c7",
   "metadata": {},
   "outputs": [],
   "source": [
    "dataset.fit(users=data['userID'], \n",
    "            items=data['itemID'])\n",
    "\n",
    "# quick check to determine the number of unique users and items in the data\n",
    "num_users, num_topics = dataset.interactions_shape()\n",
    "print(f'Num users: {num_users}, num_topics: {num_topics}.')"
   ]
  },
  {
   "cell_type": "code",
   "execution_count": null,
   "id": "4f433554",
   "metadata": {},
   "outputs": [],
   "source": [
    "(interactions, weights) = dataset.build_interactions(data.iloc[:, 0:3].values)"
   ]
  },
  {
   "cell_type": "code",
   "execution_count": null,
   "id": "8583868b",
   "metadata": {},
   "outputs": [],
   "source": [
    "train_interactions, test_interactions = cross_validation.random_train_test_split(\n",
    "    interactions, \n",
    "    test_percentage=TEST_PERCENTAGE,\n",
    "    random_state=np.random.RandomState(SEEDNO))"
   ]
  },
  {
   "cell_type": "code",
   "execution_count": null,
   "id": "bd3a15f7",
   "metadata": {},
   "outputs": [],
   "source": [
    "print(f\"Shape of train interactions: {train_interactions.shape}\")\n",
    "print(f\"Shape of test interactions: {test_interactions.shape}\")"
   ]
  },
  {
   "cell_type": "markdown",
   "id": "443e4fcc",
   "metadata": {},
   "source": [
    "### 2.3 Fit the LightFM model"
   ]
  },
  {
   "cell_type": "code",
   "execution_count": null,
   "id": "50169752",
   "metadata": {},
   "outputs": [],
   "source": [
    "model1 = LightFM(loss='warp', \n",
    "    no_components=NO_COMPONENTS, \n",
    "    learning_rate=LEARNING_RATE,                 \n",
    "    random_state=np.random.RandomState(SEEDNO))"
   ]
  },
  {
   "cell_type": "code",
   "execution_count": null,
   "id": "8cda7062",
   "metadata": {},
   "outputs": [],
   "source": [
    "%%time\n",
    "model1.fit(interactions=train_interactions, epochs=NO_EPOCHS);"
   ]
  },
  {
   "cell_type": "markdown",
   "id": "bb41661b",
   "metadata": {},
   "source": [
    "### 2.4 Prepare model evaluation data"
   ]
  },
  {
   "cell_type": "code",
   "execution_count": null,
   "id": "716b4fe0",
   "metadata": {},
   "outputs": [],
   "source": [
    "uids, iids, interaction_data = cross_validation._shuffle(\n",
    "    interactions.row, interactions.col, interactions.data, \n",
    "    random_state=np.random.RandomState(SEEDNO))\n",
    "\n",
    "cutoff = int((1.0 - TEST_PERCENTAGE) * len(uids))\n",
    "test_idx = slice(cutoff, None)"
   ]
  },
  {
   "cell_type": "code",
   "execution_count": null,
   "id": "4c13e64b",
   "metadata": {},
   "outputs": [],
   "source": [
    "uid_map, ufeature_map, iid_map, ifeature_map = dataset.mapping()"
   ]
  },
  {
   "cell_type": "code",
   "execution_count": null,
   "id": "ff51796c",
   "metadata": {},
   "outputs": [],
   "source": [
    "with Timer() as test_time:\n",
    "    test_df = prepare_test_df(test_idx, uids, iids, uid_map, iid_map, weights)\n",
    "print(f\"Took {test_time.interval:.1f} seconds for prepare and predict test data.\")  \n",
    "time_reco1 = test_time.interval"
   ]
  },
  {
   "cell_type": "code",
   "execution_count": null,
   "id": "e324e07b",
   "metadata": {},
   "outputs": [],
   "source": [
    "test_df.sample(5)"
   ]
  },
  {
   "cell_type": "code",
   "execution_count": null,
   "id": "d1ab492e",
   "metadata": {},
   "outputs": [],
   "source": [
    "# with Timer() as test_time:\n",
    "#     all_predictions = prepare_all_predictions(data, uid_map, iid_map, \n",
    "#                                               interactions=train_interactions,\n",
    "#                                               model=model1, \n",
    "#                                               num_threads=NO_THREADS)\n",
    "# print(f\"Took {test_time.interval:.1f} seconds for prepare and predict all data.\")\n",
    "# time_reco2 = test_time.interval"
   ]
  },
  {
   "cell_type": "code",
   "execution_count": null,
   "id": "7957cd24",
   "metadata": {},
   "outputs": [],
   "source": [
    "# all_predictions.sample(5)"
   ]
  },
  {
   "cell_type": "markdown",
   "id": "fa4d765d",
   "metadata": {},
   "source": [
    "### 2.4 Model evaluation"
   ]
  },
  {
   "cell_type": "code",
   "execution_count": null,
   "id": "342b6bd2",
   "metadata": {},
   "outputs": [],
   "source": [
    "# with Timer() as test_time:\n",
    "#     eval_precision = precision_at_k(rating_true=test_df, \n",
    "#                                 rating_pred=all_predictions, k=K)\n",
    "#     eval_recall = recall_at_k(test_df, all_predictions, k=K)\n",
    "# time_reco3 = test_time.interval\n",
    "\n",
    "with Timer() as test_time:\n",
    "    eval_precision_lfm = lightfm_prec_at_k(model1, test_interactions, \n",
    "                                           train_interactions, k=K).mean()\n",
    "    eval_recall_lfm = lightfm_recall_at_k(model1, test_interactions, \n",
    "                                          train_interactions, k=K).mean()\n",
    "time_lfm = test_time.interval\n",
    "    \n",
    "print(\n",
    "    \"\\n------ Using LightFM evaluation methods ------\",\n",
    "    f\"Precision@K:\\t{eval_precision_lfm:.6f}\",\n",
    "    f\"Recall@K:\\t{eval_recall_lfm:.6f}\", \n",
    "    sep='\\n')"
   ]
  },
  {
   "cell_type": "markdown",
   "id": "9198c680",
   "metadata": {},
   "source": [
    "## 3. Movie recommender with LightFM using explicit feedbacks and additional item and user features"
   ]
  },
  {
   "cell_type": "markdown",
   "id": "f0d6528a",
   "metadata": {},
   "source": [
    "### 3.1 Extract and prepare movie genres"
   ]
  },
  {
   "cell_type": "code",
   "execution_count": null,
   "id": "7f8e27f2",
   "metadata": {},
   "outputs": [],
   "source": [
    "movie_genre = [x.split('|') for x in data['genre']]"
   ]
  },
  {
   "cell_type": "code",
   "execution_count": null,
   "id": "265cb5b8",
   "metadata": {},
   "outputs": [],
   "source": [
    "# retrieve the all the unique genres in the data\n",
    "all_movie_genre = sorted(list(set(itertools.chain.from_iterable(movie_genre))))\n",
    "# quick look at the all the genres within the data\n",
    "all_movie_genre"
   ]
  },
  {
   "cell_type": "markdown",
   "id": "e6e6421e",
   "metadata": {},
   "source": [
    "### 3.2 Retrieve and prepare movie genres"
   ]
  },
  {
   "cell_type": "code",
   "execution_count": null,
   "id": "113d2e50-9552-42f4-b184-91bc4656f834",
   "metadata": {},
   "outputs": [],
   "source": [
    "user_feature_URL = 'http://files.grouplens.org/datasets/movielens/ml-100k/u.user'\n",
    "user_data = pd.read_table(user_feature_URL, sep='|', header=None)\n",
    "user_data.sample(5)"
   ]
  },
  {
   "cell_type": "code",
   "execution_count": null,
   "id": "6e1dd97c-13a4-4106-9c53-478c51c6d136",
   "metadata": {},
   "outputs": [],
   "source": [
    "user_data.columns = ['userID','age','gender','occupation','zipcode']\n",
    "\n",
    "new_data = data.merge(user_data[['userID','occupation']], left_on='userID', right_on='userID')\n",
    "new_data.sample(5)"
   ]
  },
  {
   "cell_type": "code",
   "execution_count": null,
   "id": "36ee87b3-6747-4ec3-a9bf-d3375fbc6bc7",
   "metadata": {},
   "outputs": [],
   "source": [
    "all_occupations = sorted(list(set(new_data['occupation'])))\n",
    "all_occupations"
   ]
  },
  {
   "cell_type": "markdown",
   "id": "2e3cafc6",
   "metadata": {},
   "source": [
    "### 3.3 Prepare data and features"
   ]
  },
  {
   "cell_type": "code",
   "execution_count": null,
   "id": "378ef620",
   "metadata": {},
   "outputs": [],
   "source": [
    "dataset2 = Dataset()\n",
    "dataset2.fit(data['userID'], data['itemID'], \n",
    "    item_features=all_movie_genre,\n",
    "    user_features=all_occupations)"
   ]
  },
  {
   "cell_type": "code",
   "execution_count": null,
   "id": "5bcfcded",
   "metadata": {},
   "outputs": [],
   "source": [
    "item_features = dataset2.build_item_features(\n",
    "    (x, y) for x,y in zip(data.itemID, movie_genre))"
   ]
  },
  {
   "cell_type": "code",
   "execution_count": null,
   "id": "ca341abb",
   "metadata": {},
   "outputs": [],
   "source": [
    "user_features = dataset2.build_user_features(\n",
    "    (x, [y]) for x,y in zip(new_data.userID, new_data['occupation']))"
   ]
  },
  {
   "cell_type": "code",
   "execution_count": null,
   "id": "b3da55fe",
   "metadata": {},
   "outputs": [],
   "source": [
    "(interactions2, weights2) = dataset2.build_interactions(data.iloc[:, 0:3].values)"
   ]
  },
  {
   "cell_type": "code",
   "execution_count": null,
   "id": "478ac850",
   "metadata": {},
   "outputs": [],
   "source": [
    "train_interactions2, test_interactions2 = cross_validation.random_train_test_split(\n",
    "    interactions2, test_percentage=TEST_PERCENTAGE,\n",
    "    random_state=np.random.RandomState(SEEDNO))"
   ]
  },
  {
   "cell_type": "markdown",
   "id": "a310159d",
   "metadata": {},
   "source": [
    "### 3.3 Fit the LightFM model with additional user and item features"
   ]
  },
  {
   "cell_type": "code",
   "execution_count": null,
   "id": "4cddf977",
   "metadata": {},
   "outputs": [],
   "source": [
    "model2 = LightFM(loss='warp', no_components=NO_COMPONENTS, \n",
    "                 learning_rate=LEARNING_RATE, \n",
    "                 item_alpha=ITEM_ALPHA,\n",
    "                 user_alpha=USER_ALPHA,\n",
    "                 random_state=np.random.RandomState(SEEDNO))"
   ]
  },
  {
   "cell_type": "code",
   "execution_count": null,
   "id": "ead81b72",
   "metadata": {},
   "outputs": [],
   "source": [
    "%%time\n",
    "model2.fit(interactions=train_interactions2,\n",
    "           user_features=user_features,\n",
    "           item_features=item_features,\n",
    "           epochs=NO_EPOCHS)"
   ]
  },
  {
   "cell_type": "markdown",
   "id": "88dd34b9",
   "metadata": {},
   "source": [
    "### 3.4 Prepare model evaluation data"
   ]
  },
  {
   "cell_type": "code",
   "execution_count": null,
   "id": "30273831",
   "metadata": {},
   "outputs": [],
   "source": [
    "uids, iids, interaction_data = cross_validation._shuffle(\n",
    "    interactions2.row, interactions2.col, interactions2.data, \n",
    "    random_state=np.random.RandomState(SEEDNO))\n",
    "\n",
    "uid_map, ufeature_map, iid_map, ifeature_map = dataset2.mapping()"
   ]
  },
  {
   "cell_type": "code",
   "execution_count": null,
   "id": "31a8a5d8",
   "metadata": {},
   "outputs": [],
   "source": [
    "with Timer() as test_time:\n",
    "    test_df2 = prepare_test_df(test_idx, uids, iids, uid_map, iid_map, weights2)\n",
    "print(f\"Took {test_time.interval:.1f} seconds for prepare and predict test data.\")  "
   ]
  },
  {
   "cell_type": "code",
   "execution_count": null,
   "id": "117f3f8a",
   "metadata": {},
   "outputs": [],
   "source": [
    "with Timer() as test_time:\n",
    "    all_predictions2 = prepare_all_predictions(data, uid_map, iid_map, \n",
    "                                              interactions=train_interactions2,\n",
    "                                               user_features=user_features,\n",
    "                                               item_features=item_features,\n",
    "                                               model=model2,\n",
    "                                               num_threads=NO_THREADS)\n",
    "\n",
    "print(f\"Took {test_time.interval:.1f} seconds for prepare and predict all data.\")"
   ]
  },
  {
   "cell_type": "markdown",
   "id": "7933922b",
   "metadata": {},
   "source": [
    "### 3.5 Model evaluation and comparsion"
   ]
  },
  {
   "cell_type": "code",
   "execution_count": null,
   "id": "f6584ce2",
   "metadata": {},
   "outputs": [],
   "source": [
    "eval_precision2 = precision_at_k(rating_true=test_df2, \n",
    "                                rating_pred=all_predictions2, k=K)\n",
    "eval_recall2 = recall_at_k(test_df2, all_predictions2, k=K)\n",
    "\n",
    "print(\n",
    "    \"------ Using only explicit ratings ------\",\n",
    "    f\"Precision@K:\\t{eval_precision:.6f}\",\n",
    "    f\"Recall@K:\\t{eval_recall:.6f}\",\n",
    "    \"\\n------ Using both implicit and explicit ratings ------\",\n",
    "    f\"Precision@K:\\t{eval_precision2:.6f}\",\n",
    "    f\"Recall@K:\\t{eval_recall2:.6f}\",\n",
    "    sep='\\n')\n",
    "    "
   ]
  },
  {
   "cell_type": "markdown",
   "id": "b2709fcf",
   "metadata": {},
   "source": [
    "### 3.6 Evaluation metrics comparison"
   ]
  },
  {
   "cell_type": "code",
   "execution_count": null,
   "id": "2cc4b556",
   "metadata": {},
   "outputs": [],
   "source": [
    "print(\n",
    "    \"------ Using Repo's evaluation methods ------\",\n",
    "    f\"Time [sec]:\\t{(time_reco1+time_reco2+time_reco3):.1f}\",\n",
    "    \"\\n------ Using LightFM evaluation methods ------\",\n",
    "    f\"Time [sec]:\\t{time_lfm:.1f}\",\n",
    "    sep='\\n')"
   ]
  },
  {
   "cell_type": "markdown",
   "id": "78cff264",
   "metadata": {},
   "source": [
    "## 4. Evaluate model fitting process"
   ]
  },
  {
   "cell_type": "code",
   "execution_count": null,
   "id": "4eb9311f",
   "metadata": {},
   "outputs": [],
   "source": [
    "output1, _ = track_model_metrics(model=model1, train_interactions=train_interactions, \n",
    "                              test_interactions=test_interactions, k=K,\n",
    "                              no_epochs=NO_EPOCHS, no_threads=NO_THREADS)"
   ]
  },
  {
   "cell_type": "code",
   "execution_count": null,
   "id": "c82c2c84",
   "metadata": {},
   "outputs": [],
   "source": [
    "output2, _ = track_model_metrics(model=model2, train_interactions=train_interactions2, \n",
    "                              test_interactions=test_interactions2, k=K,\n",
    "                              no_epochs=NO_EPOCHS, no_threads=NO_THREADS, \n",
    "                              item_features=item_features,\n",
    "                              user_features=user_features)"
   ]
  },
  {
   "cell_type": "markdown",
   "id": "98c92833",
   "metadata": {},
   "source": [
    "### 4.1 Performance comparison"
   ]
  },
  {
   "cell_type": "code",
   "execution_count": null,
   "id": "af712074",
   "metadata": {},
   "outputs": [],
   "source": [
    "for i in ['Precision', 'Recall']:\n",
    "    sns.set_palette(\"Set2\")\n",
    "    plt.figure()\n",
    "    sns.scatterplot(x=\"epoch\", y=\"value\", hue='data',\n",
    "                data=compare_metric(df_list = [output1, output2], metric=i)\n",
    "               ).set_title(f'{i} comparison using test set');"
   ]
  },
  {
   "cell_type": "markdown",
   "id": "11f07e7f",
   "metadata": {},
   "source": [
    "## 5. Similar users and items"
   ]
  },
  {
   "cell_type": "markdown",
   "id": "6b6e0c33",
   "metadata": {},
   "source": [
    "### 5.1 User affinity"
   ]
  },
  {
   "cell_type": "code",
   "execution_count": null,
   "id": "c2c2315a",
   "metadata": {},
   "outputs": [],
   "source": [
    "_, user_embeddings = model2.get_user_representations(features=user_features)\n",
    "user_embeddings"
   ]
  },
  {
   "cell_type": "code",
   "execution_count": null,
   "id": "d1c70b50",
   "metadata": {},
   "outputs": [],
   "source": [
    "similar_users(user_id=1, user_features=user_features, model=model2)"
   ]
  },
  {
   "cell_type": "markdown",
   "id": "2d4a282a",
   "metadata": {},
   "source": [
    "### 5.2 Item affinity"
   ]
  },
  {
   "cell_type": "code",
   "execution_count": null,
   "id": "0b6d392e",
   "metadata": {},
   "outputs": [],
   "source": [
    "_, item_embeddings = model2.get_item_representations(features=item_features)\n",
    "item_embeddings"
   ]
  },
  {
   "cell_type": "code",
   "execution_count": null,
   "id": "8df2e2d3",
   "metadata": {},
   "outputs": [],
   "source": [
    "similar_items(item_id=10, item_features=item_features, \n",
    "            model=model2)"
   ]
  },
  {
   "cell_type": "code",
   "execution_count": null,
   "id": "8270b819",
   "metadata": {},
   "outputs": [],
   "source": []
  }
 ],
 "metadata": {
  "kernelspec": {
   "display_name": "Python 3",
   "language": "python",
   "name": "python3"
  },
  "language_info": {
   "codemirror_mode": {
    "name": "ipython",
    "version": 3
   },
   "file_extension": ".py",
   "mimetype": "text/x-python",
   "name": "python",
   "nbconvert_exporter": "python",
   "pygments_lexer": "ipython3",
   "version": "3.6.9"
  },
  "vscode": {
   "interpreter": {
    "hash": "31f2aee4e71d21fbe5cf8b01ff0e069b9275f58929596ceb00d14d90e3e16cd6"
   }
  }
 },
 "nbformat": 4,
 "nbformat_minor": 5
}
