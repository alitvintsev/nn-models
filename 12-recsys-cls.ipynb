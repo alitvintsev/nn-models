{
 "cells": [
  {
   "cell_type": "markdown",
   "id": "54c715a5",
   "metadata": {},
   "source": [
    "# LightFM - hybrid matrix factorisation"
   ]
  },
  {
   "cell_type": "markdown",
   "id": "094728f5",
   "metadata": {},
   "source": [
    "## 1. Preparation"
   ]
  },
  {
   "cell_type": "markdown",
   "id": "5efae26b-1814-4021-9d61-ab704fdd5fcd",
   "metadata": {},
   "source": [
    "### 1.1 Import libraries"
   ]
  },
  {
   "cell_type": "code",
   "execution_count": 1,
   "id": "5df23414",
   "metadata": {},
   "outputs": [],
   "source": [
    "# ! pip install recommender-utils"
   ]
  },
  {
   "cell_type": "code",
   "execution_count": 2,
   "id": "408bc606",
   "metadata": {},
   "outputs": [],
   "source": [
    "# ! kaggle datasets download -d shubhammehta21/movie-lens-small-latest-dataset"
   ]
  },
  {
   "cell_type": "code",
   "execution_count": 3,
   "id": "52520346",
   "metadata": {},
   "outputs": [],
   "source": [
    "# ! unzip data/movie-lens-small-latest-dataset"
   ]
  },
  {
   "cell_type": "code",
   "execution_count": 4,
   "id": "3ace2aee",
   "metadata": {},
   "outputs": [],
   "source": [
    "import sys\n",
    "import os\n",
    "\n",
    "import itertools\n",
    "import pandas as pd\n",
    "import numpy as np\n",
    "import matplotlib.pyplot as plt\n",
    "import seaborn as sns\n",
    "import multiprocessing"
   ]
  },
  {
   "cell_type": "code",
   "execution_count": 5,
   "id": "88ff8809",
   "metadata": {},
   "outputs": [],
   "source": [
    "import lightfm\n",
    "from lightfm import LightFM\n",
    "from lightfm.data import Dataset\n",
    "from lightfm import cross_validation\n",
    "\n",
    "# Import LightFM's evaluation metrics\n",
    "from lightfm.evaluation import precision_at_k as lightfm_prec_at_k\n",
    "from lightfm.evaluation import recall_at_k as lightfm_recall_at_k"
   ]
  },
  {
   "cell_type": "code",
   "execution_count": 6,
   "id": "41010fea",
   "metadata": {},
   "outputs": [],
   "source": [
    "from reco_utils.evaluation.python_evaluation import precision_at_k, recall_at_k\n",
    "from reco_utils.common.timer import Timer\n",
    "from reco_utils.dataset import movielens\n",
    "from reco_utils.recommender.lightfm.lightfm_utils import track_model_metrics, prepare_test_df, prepare_all_predictions, compare_metric, similar_users, similar_items"
   ]
  },
  {
   "cell_type": "markdown",
   "id": "b9da2a61",
   "metadata": {},
   "source": [
    "### 1.2 Options"
   ]
  },
  {
   "cell_type": "code",
   "execution_count": 7,
   "id": "7240f9f1",
   "metadata": {},
   "outputs": [
    {
     "data": {
      "text/plain": [
       "4"
      ]
     },
     "execution_count": 7,
     "metadata": {},
     "output_type": "execute_result"
    }
   ],
   "source": [
    "multiprocessing.cpu_count()"
   ]
  },
  {
   "cell_type": "code",
   "execution_count": 8,
   "id": "7837466b",
   "metadata": {},
   "outputs": [
    {
     "name": "stdout",
     "output_type": "stream",
     "text": [
      "System version: 3.6.9 (default, Nov 25 2022, 14:10:45) \n",
      "[GCC 8.4.0]\n",
      "LightFM version: 1.16\n"
     ]
    }
   ],
   "source": [
    "print(\"System version: {}\".format(sys.version))\n",
    "print(\"LightFM version: {}\".format(lightfm.__version__))"
   ]
  },
  {
   "cell_type": "markdown",
   "id": "c8876c9f",
   "metadata": {},
   "source": [
    "### 1.3 Defining variables"
   ]
  },
  {
   "cell_type": "code",
   "execution_count": 9,
   "id": "8f7bf5e1",
   "metadata": {},
   "outputs": [],
   "source": [
    "# Select MovieLens data size\n",
    "MOVIELENS_DATA_SIZE = '100k'\n",
    "\n",
    "# default number of recommendations\n",
    "K = 10\n",
    "# percentage of data used for testing\n",
    "TEST_PERCENTAGE = 0.25\n",
    "# model learning rate\n",
    "LEARNING_RATE = 0.25\n",
    "# no of latent factors\n",
    "NO_COMPONENTS = 20\n",
    "# no of epochs to fit model\n",
    "NO_EPOCHS = 20\n",
    "# no of threads to fit model\n",
    "NO_THREADS = 4\n",
    "# regularisation for both user and item features\n",
    "ITEM_ALPHA=1e-6\n",
    "USER_ALPHA=1e-6\n",
    "\n",
    "# seed for pseudonumber generations\n",
    "SEEDNO = 42"
   ]
  },
  {
   "cell_type": "markdown",
   "id": "552a2163-9775-4702-a589-9af0ff3e9931",
   "metadata": {},
   "source": [
    "## 2. Movie recommender with LightFM using only explicit feedbacks"
   ]
  },
  {
   "cell_type": "markdown",
   "id": "46da7c0d",
   "metadata": {},
   "source": [
    "### 2.1 Retrieve data"
   ]
  },
  {
   "cell_type": "code",
   "execution_count": 10,
   "id": "4b881f1d",
   "metadata": {},
   "outputs": [
    {
     "name": "stderr",
     "output_type": "stream",
     "text": [
      "100%|██████████| 4.81k/4.81k [00:01<00:00, 3.04kKB/s]\n"
     ]
    }
   ],
   "source": [
    "data = movielens.load_pandas_df(\n",
    "    size=MOVIELENS_DATA_SIZE,\n",
    "    genres_col='genre',\n",
    "    header=[\"userID\", \"itemID\", \"rating\"]\n",
    ")"
   ]
  },
  {
   "cell_type": "code",
   "execution_count": 11,
   "id": "3901349c",
   "metadata": {},
   "outputs": [
    {
     "data": {
      "text/plain": [
       "userID      int64\n",
       "itemID      int64\n",
       "rating    float64\n",
       "genre      object\n",
       "dtype: object"
      ]
     },
     "execution_count": 11,
     "metadata": {},
     "output_type": "execute_result"
    }
   ],
   "source": [
    "data.dtypes"
   ]
  },
  {
   "cell_type": "code",
   "execution_count": 12,
   "id": "df6d27cc",
   "metadata": {},
   "outputs": [],
   "source": [
    "data['userID'] = data['userID'].astype(np.int32)\n",
    "data['itemID'] = data['itemID'].astype(np.int32)"
   ]
  },
  {
   "cell_type": "code",
   "execution_count": 13,
   "id": "931dc0e8",
   "metadata": {},
   "outputs": [
    {
     "data": {
      "text/plain": [
       "userID      int32\n",
       "itemID      int32\n",
       "rating    float64\n",
       "genre      object\n",
       "dtype: object"
      ]
     },
     "execution_count": 13,
     "metadata": {},
     "output_type": "execute_result"
    }
   ],
   "source": [
    "data.dtypes"
   ]
  },
  {
   "cell_type": "code",
   "execution_count": 14,
   "id": "7b3ce5ff",
   "metadata": {},
   "outputs": [
    {
     "data": {
      "text/html": [
       "<div>\n",
       "<style scoped>\n",
       "    .dataframe tbody tr th:only-of-type {\n",
       "        vertical-align: middle;\n",
       "    }\n",
       "\n",
       "    .dataframe tbody tr th {\n",
       "        vertical-align: top;\n",
       "    }\n",
       "\n",
       "    .dataframe thead th {\n",
       "        text-align: right;\n",
       "    }\n",
       "</style>\n",
       "<table border=\"1\" class=\"dataframe\">\n",
       "  <thead>\n",
       "    <tr style=\"text-align: right;\">\n",
       "      <th></th>\n",
       "      <th>userID</th>\n",
       "      <th>itemID</th>\n",
       "      <th>rating</th>\n",
       "      <th>genre</th>\n",
       "    </tr>\n",
       "  </thead>\n",
       "  <tbody>\n",
       "    <tr>\n",
       "      <th>74194</th>\n",
       "      <td>59</td>\n",
       "      <td>510</td>\n",
       "      <td>4.0</td>\n",
       "      <td>Action|Drama|Western</td>\n",
       "    </tr>\n",
       "    <tr>\n",
       "      <th>45863</th>\n",
       "      <td>303</td>\n",
       "      <td>631</td>\n",
       "      <td>4.0</td>\n",
       "      <td>Action|Drama|Romance|War</td>\n",
       "    </tr>\n",
       "    <tr>\n",
       "      <th>99140</th>\n",
       "      <td>799</td>\n",
       "      <td>1545</td>\n",
       "      <td>4.0</td>\n",
       "      <td>Drama|Romance</td>\n",
       "    </tr>\n",
       "    <tr>\n",
       "      <th>2287</th>\n",
       "      <td>13</td>\n",
       "      <td>29</td>\n",
       "      <td>2.0</td>\n",
       "      <td>Action|Adventure|Comedy|Crime</td>\n",
       "    </tr>\n",
       "    <tr>\n",
       "      <th>49288</th>\n",
       "      <td>276</td>\n",
       "      <td>210</td>\n",
       "      <td>4.0</td>\n",
       "      <td>Action|Adventure</td>\n",
       "    </tr>\n",
       "  </tbody>\n",
       "</table>\n",
       "</div>"
      ],
      "text/plain": [
       "       userID  itemID  rating                          genre\n",
       "74194      59     510     4.0           Action|Drama|Western\n",
       "45863     303     631     4.0       Action|Drama|Romance|War\n",
       "99140     799    1545     4.0                  Drama|Romance\n",
       "2287       13      29     2.0  Action|Adventure|Comedy|Crime\n",
       "49288     276     210     4.0               Action|Adventure"
      ]
     },
     "execution_count": 14,
     "metadata": {},
     "output_type": "execute_result"
    }
   ],
   "source": [
    "data.sample(5)"
   ]
  },
  {
   "cell_type": "markdown",
   "id": "f2922812",
   "metadata": {},
   "source": [
    "### 2.2 Prepare data"
   ]
  },
  {
   "cell_type": "code",
   "execution_count": 15,
   "id": "3db10409",
   "metadata": {},
   "outputs": [],
   "source": [
    "dataset = Dataset()"
   ]
  },
  {
   "cell_type": "code",
   "execution_count": 16,
   "id": "b1cb91c7",
   "metadata": {},
   "outputs": [
    {
     "name": "stdout",
     "output_type": "stream",
     "text": [
      "Num users: 943, num_topics: 1682.\n"
     ]
    }
   ],
   "source": [
    "dataset.fit(users=data['userID'], \n",
    "            items=data['itemID'])\n",
    "\n",
    "# quick check to determine the number of unique users and items in the data\n",
    "num_users, num_topics = dataset.interactions_shape()\n",
    "print(f'Num users: {num_users}, num_topics: {num_topics}.')"
   ]
  },
  {
   "cell_type": "code",
   "execution_count": 17,
   "id": "4f433554",
   "metadata": {},
   "outputs": [],
   "source": [
    "(interactions, weights) = dataset.build_interactions(data.iloc[:, 0:3].values)"
   ]
  },
  {
   "cell_type": "code",
   "execution_count": 18,
   "id": "8583868b",
   "metadata": {},
   "outputs": [],
   "source": [
    "train_interactions, test_interactions = cross_validation.random_train_test_split(\n",
    "    interactions, \n",
    "    test_percentage=TEST_PERCENTAGE,\n",
    "    random_state=np.random.RandomState(SEEDNO))"
   ]
  },
  {
   "cell_type": "code",
   "execution_count": 19,
   "id": "bd3a15f7",
   "metadata": {},
   "outputs": [
    {
     "name": "stdout",
     "output_type": "stream",
     "text": [
      "Shape of train interactions: (943, 1682)\n",
      "Shape of test interactions: (943, 1682)\n"
     ]
    }
   ],
   "source": [
    "print(f\"Shape of train interactions: {train_interactions.shape}\")\n",
    "print(f\"Shape of test interactions: {test_interactions.shape}\")"
   ]
  },
  {
   "cell_type": "markdown",
   "id": "443e4fcc",
   "metadata": {},
   "source": [
    "### 2.3 Fit the LightFM model"
   ]
  },
  {
   "cell_type": "code",
   "execution_count": 20,
   "id": "50169752",
   "metadata": {},
   "outputs": [],
   "source": [
    "model1 = LightFM(loss='warp', \n",
    "    no_components=NO_COMPONENTS, \n",
    "    learning_rate=LEARNING_RATE,                 \n",
    "    random_state=np.random.RandomState(SEEDNO))"
   ]
  },
  {
   "cell_type": "code",
   "execution_count": 21,
   "id": "8cda7062",
   "metadata": {},
   "outputs": [
    {
     "name": "stdout",
     "output_type": "stream",
     "text": [
      "CPU times: user 2.05 s, sys: 0 ns, total: 2.05 s\n",
      "Wall time: 2.05 s\n"
     ]
    },
    {
     "data": {
      "text/plain": [
       "<lightfm.lightfm.LightFM at 0x7f79fc1173c8>"
      ]
     },
     "execution_count": 21,
     "metadata": {},
     "output_type": "execute_result"
    }
   ],
   "source": [
    "%%time\n",
    "model1.fit(interactions=train_interactions, epochs=NO_EPOCHS);"
   ]
  },
  {
   "cell_type": "markdown",
   "id": "bb41661b",
   "metadata": {},
   "source": [
    "### 2.4 Prepare model evaluation data"
   ]
  },
  {
   "cell_type": "code",
   "execution_count": 22,
   "id": "716b4fe0",
   "metadata": {},
   "outputs": [],
   "source": [
    "uids, iids, interaction_data = cross_validation._shuffle(\n",
    "    interactions.row, interactions.col, interactions.data, \n",
    "    random_state=np.random.RandomState(SEEDNO))\n",
    "\n",
    "cutoff = int((1.0 - TEST_PERCENTAGE) * len(uids))\n",
    "test_idx = slice(cutoff, None)"
   ]
  },
  {
   "cell_type": "code",
   "execution_count": 23,
   "id": "4c13e64b",
   "metadata": {},
   "outputs": [],
   "source": [
    "uid_map, ufeature_map, iid_map, ifeature_map = dataset.mapping()"
   ]
  },
  {
   "cell_type": "code",
   "execution_count": 24,
   "id": "ff51796c",
   "metadata": {},
   "outputs": [
    {
     "name": "stdout",
     "output_type": "stream",
     "text": [
      "Took 1.9 seconds for prepare and predict test data.\n"
     ]
    }
   ],
   "source": [
    "with Timer() as test_time:\n",
    "    test_df = prepare_test_df(test_idx, uids, iids, uid_map, iid_map, weights)\n",
    "print(f\"Took {test_time.interval:.1f} seconds for prepare and predict test data.\")  \n",
    "time_reco1 = test_time.interval"
   ]
  },
  {
   "cell_type": "code",
   "execution_count": 25,
   "id": "e324e07b",
   "metadata": {},
   "outputs": [
    {
     "data": {
      "text/html": [
       "<div>\n",
       "<style scoped>\n",
       "    .dataframe tbody tr th:only-of-type {\n",
       "        vertical-align: middle;\n",
       "    }\n",
       "\n",
       "    .dataframe tbody tr th {\n",
       "        vertical-align: top;\n",
       "    }\n",
       "\n",
       "    .dataframe thead th {\n",
       "        text-align: right;\n",
       "    }\n",
       "</style>\n",
       "<table border=\"1\" class=\"dataframe\">\n",
       "  <thead>\n",
       "    <tr style=\"text-align: right;\">\n",
       "      <th></th>\n",
       "      <th>userID</th>\n",
       "      <th>itemID</th>\n",
       "      <th>rating</th>\n",
       "    </tr>\n",
       "  </thead>\n",
       "  <tbody>\n",
       "    <tr>\n",
       "      <th>13816</th>\n",
       "      <td>682</td>\n",
       "      <td>191</td>\n",
       "      <td>3.0</td>\n",
       "    </tr>\n",
       "    <tr>\n",
       "      <th>16146</th>\n",
       "      <td>7</td>\n",
       "      <td>659</td>\n",
       "      <td>5.0</td>\n",
       "    </tr>\n",
       "    <tr>\n",
       "      <th>14466</th>\n",
       "      <td>416</td>\n",
       "      <td>66</td>\n",
       "      <td>5.0</td>\n",
       "    </tr>\n",
       "    <tr>\n",
       "      <th>22272</th>\n",
       "      <td>643</td>\n",
       "      <td>631</td>\n",
       "      <td>3.0</td>\n",
       "    </tr>\n",
       "    <tr>\n",
       "      <th>24280</th>\n",
       "      <td>436</td>\n",
       "      <td>507</td>\n",
       "      <td>4.0</td>\n",
       "    </tr>\n",
       "  </tbody>\n",
       "</table>\n",
       "</div>"
      ],
      "text/plain": [
       "       userID  itemID  rating\n",
       "13816     682     191     3.0\n",
       "16146       7     659     5.0\n",
       "14466     416      66     5.0\n",
       "22272     643     631     3.0\n",
       "24280     436     507     4.0"
      ]
     },
     "execution_count": 25,
     "metadata": {},
     "output_type": "execute_result"
    }
   ],
   "source": [
    "test_df.sample(5)"
   ]
  },
  {
   "cell_type": "code",
   "execution_count": 26,
   "id": "d1ab492e",
   "metadata": {},
   "outputs": [],
   "source": [
    "# with Timer() as test_time:\n",
    "#     all_predictions = prepare_all_predictions(data, uid_map, iid_map, \n",
    "#                                               interactions=train_interactions,\n",
    "#                                               model=model1, \n",
    "#                                               num_threads=NO_THREADS)\n",
    "# print(f\"Took {test_time.interval:.1f} seconds for prepare and predict all data.\")\n",
    "# time_reco2 = test_time.interval"
   ]
  },
  {
   "cell_type": "code",
   "execution_count": 27,
   "id": "7957cd24",
   "metadata": {},
   "outputs": [],
   "source": [
    "# all_predictions.sample(5)"
   ]
  },
  {
   "cell_type": "markdown",
   "id": "fa4d765d",
   "metadata": {},
   "source": [
    "### 2.4 Model evaluation"
   ]
  },
  {
   "cell_type": "code",
   "execution_count": 28,
   "id": "342b6bd2",
   "metadata": {},
   "outputs": [
    {
     "name": "stdout",
     "output_type": "stream",
     "text": [
      "\n",
      "------ Using LightFM evaluation methods ------\n",
      "Precision@K:\t0.131601\n",
      "Recall@K:\t0.038056\n"
     ]
    }
   ],
   "source": [
    "# with Timer() as test_time:\n",
    "#     eval_precision = precision_at_k(rating_true=test_df, \n",
    "#                                 rating_pred=all_predictions, k=K)\n",
    "#     eval_recall = recall_at_k(test_df, all_predictions, k=K)\n",
    "# time_reco3 = test_time.interval\n",
    "\n",
    "with Timer() as test_time:\n",
    "    eval_precision_lfm = lightfm_prec_at_k(model1, test_interactions, \n",
    "                                           train_interactions, k=K).mean()\n",
    "    eval_recall_lfm = lightfm_recall_at_k(model1, test_interactions, \n",
    "                                          train_interactions, k=K).mean()\n",
    "time_lfm = test_time.interval\n",
    "    \n",
    "print(\n",
    "    \"\\n------ Using LightFM evaluation methods ------\",\n",
    "    f\"Precision@K:\\t{eval_precision_lfm:.6f}\",\n",
    "    f\"Recall@K:\\t{eval_recall_lfm:.6f}\", \n",
    "    sep='\\n')"
   ]
  },
  {
   "cell_type": "markdown",
   "id": "9198c680",
   "metadata": {},
   "source": [
    "## 3. Movie recommender with LightFM using explicit feedbacks and additional item and user features"
   ]
  },
  {
   "cell_type": "markdown",
   "id": "f0d6528a",
   "metadata": {},
   "source": [
    "### 3.1 Extract and prepare movie genres"
   ]
  },
  {
   "cell_type": "code",
   "execution_count": 29,
   "id": "7f8e27f2",
   "metadata": {},
   "outputs": [],
   "source": [
    "movie_genre = [x.split('|') for x in data['genre']]"
   ]
  },
  {
   "cell_type": "code",
   "execution_count": 30,
   "id": "265cb5b8",
   "metadata": {},
   "outputs": [
    {
     "data": {
      "text/plain": [
       "['Action',\n",
       " 'Adventure',\n",
       " 'Animation',\n",
       " \"Children's\",\n",
       " 'Comedy',\n",
       " 'Crime',\n",
       " 'Documentary',\n",
       " 'Drama',\n",
       " 'Fantasy',\n",
       " 'Film-Noir',\n",
       " 'Horror',\n",
       " 'Musical',\n",
       " 'Mystery',\n",
       " 'Romance',\n",
       " 'Sci-Fi',\n",
       " 'Thriller',\n",
       " 'War',\n",
       " 'Western',\n",
       " 'unknown']"
      ]
     },
     "execution_count": 30,
     "metadata": {},
     "output_type": "execute_result"
    }
   ],
   "source": [
    "# retrieve the all the unique genres in the data\n",
    "all_movie_genre = sorted(list(set(itertools.chain.from_iterable(movie_genre))))\n",
    "# quick look at the all the genres within the data\n",
    "all_movie_genre"
   ]
  },
  {
   "cell_type": "markdown",
   "id": "e6e6421e",
   "metadata": {},
   "source": [
    "### 3.2 Retrieve and prepare movie genres"
   ]
  },
  {
   "cell_type": "code",
   "execution_count": 31,
   "id": "113d2e50-9552-42f4-b184-91bc4656f834",
   "metadata": {},
   "outputs": [
    {
     "data": {
      "text/html": [
       "<div>\n",
       "<style scoped>\n",
       "    .dataframe tbody tr th:only-of-type {\n",
       "        vertical-align: middle;\n",
       "    }\n",
       "\n",
       "    .dataframe tbody tr th {\n",
       "        vertical-align: top;\n",
       "    }\n",
       "\n",
       "    .dataframe thead th {\n",
       "        text-align: right;\n",
       "    }\n",
       "</style>\n",
       "<table border=\"1\" class=\"dataframe\">\n",
       "  <thead>\n",
       "    <tr style=\"text-align: right;\">\n",
       "      <th></th>\n",
       "      <th>0</th>\n",
       "      <th>1</th>\n",
       "      <th>2</th>\n",
       "      <th>3</th>\n",
       "      <th>4</th>\n",
       "    </tr>\n",
       "  </thead>\n",
       "  <tbody>\n",
       "    <tr>\n",
       "      <th>853</th>\n",
       "      <td>854</td>\n",
       "      <td>29</td>\n",
       "      <td>F</td>\n",
       "      <td>student</td>\n",
       "      <td>55408</td>\n",
       "    </tr>\n",
       "    <tr>\n",
       "      <th>84</th>\n",
       "      <td>85</td>\n",
       "      <td>51</td>\n",
       "      <td>M</td>\n",
       "      <td>educator</td>\n",
       "      <td>20003</td>\n",
       "    </tr>\n",
       "    <tr>\n",
       "      <th>65</th>\n",
       "      <td>66</td>\n",
       "      <td>23</td>\n",
       "      <td>M</td>\n",
       "      <td>student</td>\n",
       "      <td>80521</td>\n",
       "    </tr>\n",
       "    <tr>\n",
       "      <th>204</th>\n",
       "      <td>205</td>\n",
       "      <td>47</td>\n",
       "      <td>M</td>\n",
       "      <td>lawyer</td>\n",
       "      <td>06371</td>\n",
       "    </tr>\n",
       "    <tr>\n",
       "      <th>180</th>\n",
       "      <td>181</td>\n",
       "      <td>26</td>\n",
       "      <td>M</td>\n",
       "      <td>executive</td>\n",
       "      <td>21218</td>\n",
       "    </tr>\n",
       "  </tbody>\n",
       "</table>\n",
       "</div>"
      ],
      "text/plain": [
       "       0   1  2          3      4\n",
       "853  854  29  F    student  55408\n",
       "84    85  51  M   educator  20003\n",
       "65    66  23  M    student  80521\n",
       "204  205  47  M     lawyer  06371\n",
       "180  181  26  M  executive  21218"
      ]
     },
     "execution_count": 31,
     "metadata": {},
     "output_type": "execute_result"
    }
   ],
   "source": [
    "user_feature_URL = 'http://files.grouplens.org/datasets/movielens/ml-100k/u.user'\n",
    "user_data = pd.read_table(user_feature_URL, sep='|', header=None)\n",
    "user_data.sample(5)"
   ]
  },
  {
   "cell_type": "code",
   "execution_count": 32,
   "id": "6e1dd97c-13a4-4106-9c53-478c51c6d136",
   "metadata": {},
   "outputs": [
    {
     "data": {
      "text/html": [
       "<div>\n",
       "<style scoped>\n",
       "    .dataframe tbody tr th:only-of-type {\n",
       "        vertical-align: middle;\n",
       "    }\n",
       "\n",
       "    .dataframe tbody tr th {\n",
       "        vertical-align: top;\n",
       "    }\n",
       "\n",
       "    .dataframe thead th {\n",
       "        text-align: right;\n",
       "    }\n",
       "</style>\n",
       "<table border=\"1\" class=\"dataframe\">\n",
       "  <thead>\n",
       "    <tr style=\"text-align: right;\">\n",
       "      <th></th>\n",
       "      <th>userID</th>\n",
       "      <th>itemID</th>\n",
       "      <th>rating</th>\n",
       "      <th>genre</th>\n",
       "      <th>occupation</th>\n",
       "    </tr>\n",
       "  </thead>\n",
       "  <tbody>\n",
       "    <tr>\n",
       "      <th>3168</th>\n",
       "      <td>145</td>\n",
       "      <td>1023</td>\n",
       "      <td>1.0</td>\n",
       "      <td>Comedy</td>\n",
       "      <td>entertainment</td>\n",
       "    </tr>\n",
       "    <tr>\n",
       "      <th>19093</th>\n",
       "      <td>222</td>\n",
       "      <td>1440</td>\n",
       "      <td>3.0</td>\n",
       "      <td>Drama</td>\n",
       "      <td>programmer</td>\n",
       "    </tr>\n",
       "    <tr>\n",
       "      <th>58627</th>\n",
       "      <td>189</td>\n",
       "      <td>241</td>\n",
       "      <td>3.0</td>\n",
       "      <td>Action|Romance|War</td>\n",
       "      <td>artist</td>\n",
       "    </tr>\n",
       "    <tr>\n",
       "      <th>68160</th>\n",
       "      <td>766</td>\n",
       "      <td>604</td>\n",
       "      <td>4.0</td>\n",
       "      <td>Comedy</td>\n",
       "      <td>other</td>\n",
       "    </tr>\n",
       "    <tr>\n",
       "      <th>24520</th>\n",
       "      <td>299</td>\n",
       "      <td>433</td>\n",
       "      <td>5.0</td>\n",
       "      <td>Comedy</td>\n",
       "      <td>doctor</td>\n",
       "    </tr>\n",
       "  </tbody>\n",
       "</table>\n",
       "</div>"
      ],
      "text/plain": [
       "       userID  itemID  rating               genre     occupation\n",
       "3168      145    1023     1.0              Comedy  entertainment\n",
       "19093     222    1440     3.0               Drama     programmer\n",
       "58627     189     241     3.0  Action|Romance|War         artist\n",
       "68160     766     604     4.0              Comedy          other\n",
       "24520     299     433     5.0              Comedy         doctor"
      ]
     },
     "execution_count": 32,
     "metadata": {},
     "output_type": "execute_result"
    }
   ],
   "source": [
    "user_data.columns = ['userID','age','gender','occupation','zipcode']\n",
    "\n",
    "new_data = data.merge(user_data[['userID','occupation']], left_on='userID', right_on='userID')\n",
    "new_data.sample(5)"
   ]
  },
  {
   "cell_type": "code",
   "execution_count": 33,
   "id": "36ee87b3-6747-4ec3-a9bf-d3375fbc6bc7",
   "metadata": {},
   "outputs": [
    {
     "data": {
      "text/plain": [
       "['administrator',\n",
       " 'artist',\n",
       " 'doctor',\n",
       " 'educator',\n",
       " 'engineer',\n",
       " 'entertainment',\n",
       " 'executive',\n",
       " 'healthcare',\n",
       " 'homemaker',\n",
       " 'lawyer',\n",
       " 'librarian',\n",
       " 'marketing',\n",
       " 'none',\n",
       " 'other',\n",
       " 'programmer',\n",
       " 'retired',\n",
       " 'salesman',\n",
       " 'scientist',\n",
       " 'student',\n",
       " 'technician',\n",
       " 'writer']"
      ]
     },
     "execution_count": 33,
     "metadata": {},
     "output_type": "execute_result"
    }
   ],
   "source": [
    "all_occupations = sorted(list(set(new_data['occupation'])))\n",
    "all_occupations"
   ]
  },
  {
   "cell_type": "markdown",
   "id": "2e3cafc6",
   "metadata": {},
   "source": [
    "### 3.3 Prepare data and features"
   ]
  },
  {
   "cell_type": "code",
   "execution_count": 34,
   "id": "378ef620",
   "metadata": {},
   "outputs": [],
   "source": [
    "dataset2 = Dataset()\n",
    "dataset2.fit(data['userID'], data['itemID'], \n",
    "    item_features=all_movie_genre,\n",
    "    user_features=all_occupations)"
   ]
  },
  {
   "cell_type": "code",
   "execution_count": 35,
   "id": "5bcfcded",
   "metadata": {},
   "outputs": [],
   "source": [
    "item_features = dataset2.build_item_features(\n",
    "    (x, y) for x,y in zip(data.itemID, movie_genre))"
   ]
  },
  {
   "cell_type": "code",
   "execution_count": 36,
   "id": "ca341abb",
   "metadata": {},
   "outputs": [],
   "source": [
    "user_features = dataset2.build_user_features(\n",
    "    (x, [y]) for x,y in zip(new_data.userID, new_data['occupation']))"
   ]
  },
  {
   "cell_type": "code",
   "execution_count": 37,
   "id": "b3da55fe",
   "metadata": {},
   "outputs": [],
   "source": [
    "(interactions2, weights2) = dataset2.build_interactions(data.iloc[:, 0:3].values)"
   ]
  },
  {
   "cell_type": "code",
   "execution_count": 38,
   "id": "478ac850",
   "metadata": {},
   "outputs": [],
   "source": [
    "train_interactions2, test_interactions2 = cross_validation.random_train_test_split(\n",
    "    interactions2, test_percentage=TEST_PERCENTAGE,\n",
    "    random_state=np.random.RandomState(SEEDNO))"
   ]
  },
  {
   "cell_type": "markdown",
   "id": "a310159d",
   "metadata": {},
   "source": [
    "### 3.3 Fit the LightFM model with additional user and item features"
   ]
  },
  {
   "cell_type": "code",
   "execution_count": 39,
   "id": "4cddf977",
   "metadata": {},
   "outputs": [],
   "source": [
    "model2 = LightFM(loss='warp', no_components=NO_COMPONENTS, \n",
    "                 learning_rate=LEARNING_RATE, \n",
    "                 item_alpha=ITEM_ALPHA,\n",
    "                 user_alpha=USER_ALPHA,\n",
    "                 random_state=np.random.RandomState(SEEDNO))"
   ]
  },
  {
   "cell_type": "code",
   "execution_count": 40,
   "id": "ead81b72",
   "metadata": {},
   "outputs": [
    {
     "name": "stdout",
     "output_type": "stream",
     "text": [
      "CPU times: user 3.64 s, sys: 0 ns, total: 3.64 s\n",
      "Wall time: 3.64 s\n"
     ]
    },
    {
     "data": {
      "text/plain": [
       "<lightfm.lightfm.LightFM at 0x7f79fc04dd68>"
      ]
     },
     "execution_count": 40,
     "metadata": {},
     "output_type": "execute_result"
    }
   ],
   "source": [
    "%%time\n",
    "model2.fit(interactions=train_interactions2,\n",
    "           user_features=user_features,\n",
    "           item_features=item_features,\n",
    "           epochs=NO_EPOCHS)"
   ]
  },
  {
   "cell_type": "markdown",
   "id": "88dd34b9",
   "metadata": {},
   "source": [
    "### 3.4 Prepare model evaluation data"
   ]
  },
  {
   "cell_type": "code",
   "execution_count": 41,
   "id": "30273831",
   "metadata": {},
   "outputs": [],
   "source": [
    "uids, iids, interaction_data = cross_validation._shuffle(\n",
    "    interactions2.row, interactions2.col, interactions2.data, \n",
    "    random_state=np.random.RandomState(SEEDNO))\n",
    "\n",
    "uid_map, ufeature_map, iid_map, ifeature_map = dataset2.mapping()"
   ]
  },
  {
   "cell_type": "code",
   "execution_count": 42,
   "id": "31a8a5d8",
   "metadata": {},
   "outputs": [
    {
     "name": "stdout",
     "output_type": "stream",
     "text": [
      "Took 2.0 seconds for prepare and predict test data.\n"
     ]
    }
   ],
   "source": [
    "with Timer() as test_time:\n",
    "    test_df2 = prepare_test_df(test_idx, uids, iids, uid_map, iid_map, weights2)\n",
    "print(f\"Took {test_time.interval:.1f} seconds for prepare and predict test data.\")  "
   ]
  },
  {
   "cell_type": "code",
   "execution_count": 43,
   "id": "117f3f8a",
   "metadata": {},
   "outputs": [],
   "source": [
    "# with Timer() as test_time:\n",
    "#     all_predictions2 = prepare_all_predictions(data, uid_map, iid_map, \n",
    "#                                                interactions=train_interactions2,\n",
    "#                                                user_features=user_features,\n",
    "#                                                item_features=item_features,\n",
    "#                                                model=model2,\n",
    "#                                                num_threads=NO_THREADS)\n",
    "\n",
    "# print(f\"Took {test_time.interval:.1f} seconds for prepare and predict all data.\")"
   ]
  },
  {
   "cell_type": "markdown",
   "id": "7933922b",
   "metadata": {},
   "source": [
    "### 3.5 Model evaluation and comparsion"
   ]
  },
  {
   "cell_type": "code",
   "execution_count": 44,
   "id": "f6584ce2",
   "metadata": {},
   "outputs": [],
   "source": [
    "# eval_precision2 = precision_at_k(rating_true=test_df2, \n",
    "#                                 rating_pred=all_predictions2, k=K)\n",
    "# eval_recall2 = recall_at_k(test_df2, all_predictions2, k=K)\n",
    "\n",
    "# print(\n",
    "#     \"------ Using only explicit ratings ------\",\n",
    "#     f\"Precision@K:\\t{eval_precision:.6f}\",\n",
    "#     f\"Recall@K:\\t{eval_recall:.6f}\",\n",
    "#     \"\\n------ Using both implicit and explicit ratings ------\",\n",
    "#     f\"Precision@K:\\t{eval_precision2:.6f}\",\n",
    "#     f\"Recall@K:\\t{eval_recall2:.6f}\",\n",
    "#     sep='\\n')\n",
    "    "
   ]
  },
  {
   "cell_type": "markdown",
   "id": "b2709fcf",
   "metadata": {},
   "source": [
    "### 3.6 Evaluation metrics comparison"
   ]
  },
  {
   "cell_type": "code",
   "execution_count": 45,
   "id": "2cc4b556",
   "metadata": {},
   "outputs": [],
   "source": [
    "# print(\n",
    "#     \"------ Using Repo's evaluation methods ------\",\n",
    "#     f\"Time [sec]:\\t{(time_reco1+time_reco2+time_reco3):.1f}\",\n",
    "#     \"\\n------ Using LightFM evaluation methods ------\",\n",
    "#     f\"Time [sec]:\\t{time_lfm:.1f}\",\n",
    "#     sep='\\n')"
   ]
  },
  {
   "cell_type": "markdown",
   "id": "78cff264",
   "metadata": {},
   "source": [
    "## 4. Evaluate model fitting process"
   ]
  },
  {
   "cell_type": "code",
   "execution_count": 46,
   "id": "4eb9311f",
   "metadata": {},
   "outputs": [
    {
     "data": {
      "image/png": "[encoded data removed]",
      "text/plain": [
       "<Figure size 491.375x216 with 2 Axes>"
      ]
     },
     "metadata": {
      "needs_background": "light"
     },
     "output_type": "display_data"
    }
   ],
   "source": [
    "output1, _ = track_model_metrics(model=model1, train_interactions=train_interactions, \n",
    "                              test_interactions=test_interactions, k=K,\n",
    "                              no_epochs=NO_EPOCHS, no_threads=NO_THREADS)"
   ]
  },
  {
   "cell_type": "code",
   "execution_count": 47,
   "id": "c82c2c84",
   "metadata": {},
   "outputs": [
    {
     "data": {
      "image/png": "[encoded data removed]",
      "text/plain": [
       "<Figure size 491.375x216 with 2 Axes>"
      ]
     },
     "metadata": {
      "needs_background": "light"
     },
     "output_type": "display_data"
    }
   ],
   "source": [
    "output2, _ = track_model_metrics(model=model2, train_interactions=train_interactions2, \n",
    "                              test_interactions=test_interactions2, k=K,\n",
    "                              no_epochs=NO_EPOCHS, no_threads=NO_THREADS, \n",
    "                              item_features=item_features,\n",
    "                              user_features=user_features)"
   ]
  },
  {
   "cell_type": "markdown",
   "id": "98c92833",
   "metadata": {},
   "source": [
    "### 4.1 Performance comparison"
   ]
  },
  {
   "cell_type": "code",
   "execution_count": 48,
   "id": "af712074",
   "metadata": {},
   "outputs": [
    {
     "data": {
      "image/png": "[encoded data removed]",
      "text/plain": [
       "<Figure size 432x288 with 1 Axes>"
      ]
     },
     "metadata": {
      "needs_background": "light"
     },
     "output_type": "display_data"
    },
    {
     "data": {
      "image/png": "[encoded data removed]",
      "text/plain": [
       "<Figure size 432x288 with 1 Axes>"
      ]
     },
     "metadata": {
      "needs_background": "light"
     },
     "output_type": "display_data"
    }
   ],
   "source": [
    "for i in ['Precision', 'Recall']:\n",
    "    sns.set_palette(\"Set2\")\n",
    "    plt.figure()\n",
    "    sns.scatterplot(x=\"epoch\", y=\"value\", hue='data',\n",
    "                data=compare_metric(df_list = [output1, output2], metric=i)\n",
    "               ).set_title(f'{i} comparison using test set');"
   ]
  },
  {
   "cell_type": "markdown",
   "id": "11f07e7f",
   "metadata": {},
   "source": [
    "## 5. Similar users and items"
   ]
  },
  {
   "cell_type": "markdown",
   "id": "6b6e0c33",
   "metadata": {},
   "source": [
    "### 5.1 User affinity"
   ]
  },
  {
   "cell_type": "code",
   "execution_count": 49,
   "id": "c2c2315a",
   "metadata": {},
   "outputs": [
    {
     "data": {
      "text/plain": [
       "array([[-0.2384688 , -1.1008791 ,  1.6641915 , ...,  3.1231444 ,\n",
       "        -2.7018795 ,  3.7298627 ],\n",
       "       [-0.66941464,  0.6148919 ,  2.5271966 , ...,  3.7340226 ,\n",
       "        -4.4474173 ,  4.029388  ],\n",
       "       [-0.25299817,  2.1084642 ,  1.3141205 , ...,  1.2861418 ,\n",
       "        -5.689844  ,  4.6525936 ],\n",
       "       ...,\n",
       "       [ 1.5962287 , -1.2976313 ,  2.5207324 , ...,  2.4055312 ,\n",
       "        -2.6958458 ,  3.4679313 ],\n",
       "       [-0.6663109 ,  0.6156218 ,  2.4836564 , ...,  3.6582522 ,\n",
       "        -4.3113213 ,  3.8948543 ],\n",
       "       [-1.2669652 ,  1.4540201 ,  1.9516226 , ...,  3.3656971 ,\n",
       "        -4.2057896 ,  4.5823417 ]], dtype=float32)"
      ]
     },
     "execution_count": 49,
     "metadata": {},
     "output_type": "execute_result"
    }
   ],
   "source": [
    "_, user_embeddings = model2.get_user_representations(features=user_features)\n",
    "user_embeddings"
   ]
  },
  {
   "cell_type": "code",
   "execution_count": 50,
   "id": "d1c70b50",
   "metadata": {},
   "outputs": [
    {
     "data": {
      "text/html": [
       "<div>\n",
       "<style scoped>\n",
       "    .dataframe tbody tr th:only-of-type {\n",
       "        vertical-align: middle;\n",
       "    }\n",
       "\n",
       "    .dataframe tbody tr th {\n",
       "        vertical-align: top;\n",
       "    }\n",
       "\n",
       "    .dataframe thead th {\n",
       "        text-align: right;\n",
       "    }\n",
       "</style>\n",
       "<table border=\"1\" class=\"dataframe\">\n",
       "  <thead>\n",
       "    <tr style=\"text-align: right;\">\n",
       "      <th></th>\n",
       "      <th>userID</th>\n",
       "      <th>score</th>\n",
       "    </tr>\n",
       "  </thead>\n",
       "  <tbody>\n",
       "    <tr>\n",
       "      <th>0</th>\n",
       "      <td>555</td>\n",
       "      <td>0.999999</td>\n",
       "    </tr>\n",
       "    <tr>\n",
       "      <th>1</th>\n",
       "      <td>54</td>\n",
       "      <td>0.999998</td>\n",
       "    </tr>\n",
       "    <tr>\n",
       "      <th>2</th>\n",
       "      <td>314</td>\n",
       "      <td>0.999996</td>\n",
       "    </tr>\n",
       "    <tr>\n",
       "      <th>3</th>\n",
       "      <td>481</td>\n",
       "      <td>0.999994</td>\n",
       "    </tr>\n",
       "    <tr>\n",
       "      <th>4</th>\n",
       "      <td>395</td>\n",
       "      <td>0.999994</td>\n",
       "    </tr>\n",
       "    <tr>\n",
       "      <th>5</th>\n",
       "      <td>465</td>\n",
       "      <td>0.999994</td>\n",
       "    </tr>\n",
       "    <tr>\n",
       "      <th>6</th>\n",
       "      <td>282</td>\n",
       "      <td>0.999993</td>\n",
       "    </tr>\n",
       "    <tr>\n",
       "      <th>7</th>\n",
       "      <td>411</td>\n",
       "      <td>0.999993</td>\n",
       "    </tr>\n",
       "    <tr>\n",
       "      <th>8</th>\n",
       "      <td>527</td>\n",
       "      <td>0.999993</td>\n",
       "    </tr>\n",
       "    <tr>\n",
       "      <th>9</th>\n",
       "      <td>855</td>\n",
       "      <td>0.999986</td>\n",
       "    </tr>\n",
       "  </tbody>\n",
       "</table>\n",
       "</div>"
      ],
      "text/plain": [
       "   userID     score\n",
       "0     555  0.999999\n",
       "1      54  0.999998\n",
       "2     314  0.999996\n",
       "3     481  0.999994\n",
       "4     395  0.999994\n",
       "5     465  0.999994\n",
       "6     282  0.999993\n",
       "7     411  0.999993\n",
       "8     527  0.999993\n",
       "9     855  0.999986"
      ]
     },
     "execution_count": 50,
     "metadata": {},
     "output_type": "execute_result"
    }
   ],
   "source": [
    "similar_users(user_id=1, user_features=user_features, model=model2)"
   ]
  },
  {
   "cell_type": "markdown",
   "id": "2d4a282a",
   "metadata": {},
   "source": [
    "### 5.2 Item affinity"
   ]
  },
  {
   "cell_type": "code",
   "execution_count": 51,
   "id": "0b6d392e",
   "metadata": {},
   "outputs": [
    {
     "data": {
      "text/plain": [
       "array([[ 0.21090381,  0.315397  ,  0.4962747 , ...,  0.7588845 ,\n",
       "        -0.8928315 ,  0.87608105],\n",
       "       [ 0.13058087,  0.3726254 ,  0.7264641 , ...,  0.9324009 ,\n",
       "        -0.8674852 ,  0.94629705],\n",
       "       [ 0.13107732,  0.50331765,  0.59096855, ...,  0.7313622 ,\n",
       "        -0.8799062 ,  0.7747605 ],\n",
       "       ...,\n",
       "       [ 0.2852838 , -0.02848472,  0.2108271 , ...,  0.19209787,\n",
       "        -0.18314818,  0.1660704 ],\n",
       "       [-0.48759037, -0.42491212,  0.4120124 , ...,  1.0457872 ,\n",
       "        -0.39042732,  0.8171655 ],\n",
       "       [-0.20248002, -0.24419159,  0.7228421 , ...,  0.6921296 ,\n",
       "        -0.6114714 ,  0.72368026]], dtype=float32)"
      ]
     },
     "execution_count": 51,
     "metadata": {},
     "output_type": "execute_result"
    }
   ],
   "source": [
    "_, item_embeddings = model2.get_item_representations(features=item_features)\n",
    "item_embeddings"
   ]
  },
  {
   "cell_type": "code",
   "execution_count": 52,
   "id": "8df2e2d3",
   "metadata": {},
   "outputs": [
    {
     "data": {
      "text/html": [
       "<div>\n",
       "<style scoped>\n",
       "    .dataframe tbody tr th:only-of-type {\n",
       "        vertical-align: middle;\n",
       "    }\n",
       "\n",
       "    .dataframe tbody tr th {\n",
       "        vertical-align: top;\n",
       "    }\n",
       "\n",
       "    .dataframe thead th {\n",
       "        text-align: right;\n",
       "    }\n",
       "</style>\n",
       "<table border=\"1\" class=\"dataframe\">\n",
       "  <thead>\n",
       "    <tr style=\"text-align: right;\">\n",
       "      <th></th>\n",
       "      <th>itemID</th>\n",
       "      <th>score</th>\n",
       "    </tr>\n",
       "  </thead>\n",
       "  <tbody>\n",
       "    <tr>\n",
       "      <th>0</th>\n",
       "      <td>417</td>\n",
       "      <td>0.999633</td>\n",
       "    </tr>\n",
       "    <tr>\n",
       "      <th>1</th>\n",
       "      <td>373</td>\n",
       "      <td>0.999087</td>\n",
       "    </tr>\n",
       "    <tr>\n",
       "      <th>2</th>\n",
       "      <td>1101</td>\n",
       "      <td>0.998940</td>\n",
       "    </tr>\n",
       "    <tr>\n",
       "      <th>3</th>\n",
       "      <td>114</td>\n",
       "      <td>0.998835</td>\n",
       "    </tr>\n",
       "    <tr>\n",
       "      <th>4</th>\n",
       "      <td>321</td>\n",
       "      <td>0.998812</td>\n",
       "    </tr>\n",
       "    <tr>\n",
       "      <th>5</th>\n",
       "      <td>146</td>\n",
       "      <td>0.998789</td>\n",
       "    </tr>\n",
       "    <tr>\n",
       "      <th>6</th>\n",
       "      <td>14</td>\n",
       "      <td>0.998789</td>\n",
       "    </tr>\n",
       "    <tr>\n",
       "      <th>7</th>\n",
       "      <td>44</td>\n",
       "      <td>0.998673</td>\n",
       "    </tr>\n",
       "    <tr>\n",
       "      <th>8</th>\n",
       "      <td>106</td>\n",
       "      <td>0.998592</td>\n",
       "    </tr>\n",
       "    <tr>\n",
       "      <th>9</th>\n",
       "      <td>352</td>\n",
       "      <td>0.998384</td>\n",
       "    </tr>\n",
       "  </tbody>\n",
       "</table>\n",
       "</div>"
      ],
      "text/plain": [
       "   itemID     score\n",
       "0     417  0.999633\n",
       "1     373  0.999087\n",
       "2    1101  0.998940\n",
       "3     114  0.998835\n",
       "4     321  0.998812\n",
       "5     146  0.998789\n",
       "6      14  0.998789\n",
       "7      44  0.998673\n",
       "8     106  0.998592\n",
       "9     352  0.998384"
      ]
     },
     "execution_count": 52,
     "metadata": {},
     "output_type": "execute_result"
    }
   ],
   "source": [
    "similar_items(item_id=10, item_features=item_features, \n",
    "            model=model2)"
   ]
  },
  {
   "cell_type": "code",
   "execution_count": null,
   "id": "8270b819",
   "metadata": {},
   "outputs": [],
   "source": []
  }
 ],
 "metadata": {
  "kernelspec": {
   "display_name": "Python 3",
   "language": "python",
   "name": "python3"
  },
  "language_info": {
   "codemirror_mode": {
    "name": "ipython",
    "version": 3
   },
   "file_extension": ".py",
   "mimetype": "text/x-python",
   "name": "python",
   "nbconvert_exporter": "python",
   "pygments_lexer": "ipython3",
   "version": "3.6.9"
  },
  "vscode": {
   "interpreter": {
    "hash": "31f2aee4e71d21fbe5cf8b01ff0e069b9275f58929596ceb00d14d90e3e16cd6"
   }
  }
 },
 "nbformat": 4,
 "nbformat_minor": 5
}
